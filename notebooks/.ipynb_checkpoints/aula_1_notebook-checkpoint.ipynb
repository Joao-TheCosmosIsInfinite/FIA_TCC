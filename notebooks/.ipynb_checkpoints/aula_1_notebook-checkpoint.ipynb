{
 "cells": [
  {
   "cell_type": "markdown",
   "metadata": {},
   "source": [
    "# Aplicações em Python"
   ]
  },
  {
   "cell_type": "markdown",
   "metadata": {
    "toc": true
   },
   "source": [
    "<h1>Índice<span class=\"tocSkip\"></span></h1>\n",
    "<div class=\"toc\"><ul class=\"toc-item\"><li><span><a href=\"#Revisão-das-estruturas-básicas\" data-toc-modified-id=\"Revisão-das-estruturas-básicas-1\"><span class=\"toc-item-num\">1&nbsp;&nbsp;</span>Revisão das estruturas básicas</a></span><ul class=\"toc-item\"><li><span><a href=\"#Strings\" data-toc-modified-id=\"Strings-1.1\"><span class=\"toc-item-num\">1.1&nbsp;&nbsp;</span>Strings</a></span></li><li><span><a href=\"#Números\" data-toc-modified-id=\"Números-1.2\"><span class=\"toc-item-num\">1.2&nbsp;&nbsp;</span>Números</a></span></li><li><span><a href=\"#Listas\" data-toc-modified-id=\"Listas-1.3\"><span class=\"toc-item-num\">1.3&nbsp;&nbsp;</span>Listas</a></span><ul class=\"toc-item\"><li><span><a href=\"#Acessando-os-elementos-de-uma-lista\" data-toc-modified-id=\"Acessando-os-elementos-de-uma-lista-1.3.1\"><span class=\"toc-item-num\">1.3.1&nbsp;&nbsp;</span>Acessando os elementos de uma lista</a></span></li></ul></li><li><span><a href=\"#Dicionário\" data-toc-modified-id=\"Dicionário-1.4\"><span class=\"toc-item-num\">1.4&nbsp;&nbsp;</span>Dicionário</a></span></li><li><span><a href=\"#Booleanos\" data-toc-modified-id=\"Booleanos-1.5\"><span class=\"toc-item-num\">1.5&nbsp;&nbsp;</span>Booleanos</a></span></li><li><span><a href=\"#Operações-matemáticas\" data-toc-modified-id=\"Operações-matemáticas-1.6\"><span class=\"toc-item-num\">1.6&nbsp;&nbsp;</span>Operações matemáticas</a></span></li><li><span><a href=\"#Manipulação-de-strings\" data-toc-modified-id=\"Manipulação-de-strings-1.7\"><span class=\"toc-item-num\">1.7&nbsp;&nbsp;</span>Manipulação de strings</a></span></li><li><span><a href=\"#Operadores-lógicos\" data-toc-modified-id=\"Operadores-lógicos-1.8\"><span class=\"toc-item-num\">1.8&nbsp;&nbsp;</span>Operadores lógicos</a></span></li><li><span><a href=\"#Comparação\" data-toc-modified-id=\"Comparação-1.9\"><span class=\"toc-item-num\">1.9&nbsp;&nbsp;</span>Comparação</a></span></li><li><span><a href=\"#Condicional\" data-toc-modified-id=\"Condicional-1.10\"><span class=\"toc-item-num\">1.10&nbsp;&nbsp;</span>Condicional</a></span></li><li><span><a href=\"#Loops\" data-toc-modified-id=\"Loops-1.11\"><span class=\"toc-item-num\">1.11&nbsp;&nbsp;</span>Loops</a></span></li><li><span><a href=\"#Funções\" data-toc-modified-id=\"Funções-1.12\"><span class=\"toc-item-num\">1.12&nbsp;&nbsp;</span>Funções</a></span></li><li><span><a href=\"#Identação\" data-toc-modified-id=\"Identação-1.13\"><span class=\"toc-item-num\">1.13&nbsp;&nbsp;</span>Identação</a></span></li></ul></li><li><span><a href=\"#Elementos-intermediários\" data-toc-modified-id=\"Elementos-intermediários-2\"><span class=\"toc-item-num\">2&nbsp;&nbsp;</span>Elementos intermediários</a></span><ul class=\"toc-item\"><li><span><a href=\"#List-comprehension\" data-toc-modified-id=\"List-comprehension-2.1\"><span class=\"toc-item-num\">2.1&nbsp;&nbsp;</span>List comprehension</a></span></li><li><span><a href=\"#PEP8\" data-toc-modified-id=\"PEP8-2.2\"><span class=\"toc-item-num\">2.2&nbsp;&nbsp;</span>PEP8</a></span></li><li><span><a href=\"#Ser-&quot;Pythonico&quot;\" data-toc-modified-id=\"Ser-&quot;Pythonico&quot;-2.3\"><span class=\"toc-item-num\">2.3&nbsp;&nbsp;</span>Ser \"Pythonico\"</a></span></li></ul></li><li><span><a href=\"#Elementos-avançados\" data-toc-modified-id=\"Elementos-avançados-3\"><span class=\"toc-item-num\">3&nbsp;&nbsp;</span>Elementos avançados</a></span><ul class=\"toc-item\"><li><span><a href=\"#Testes-unitários\" data-toc-modified-id=\"Testes-unitários-3.1\"><span class=\"toc-item-num\">3.1&nbsp;&nbsp;</span>Testes unitários</a></span></li><li><span><a href=\"#Funções-com-multi-argumentos\" data-toc-modified-id=\"Funções-com-multi-argumentos-3.2\"><span class=\"toc-item-num\">3.2&nbsp;&nbsp;</span>Funções com multi argumentos</a></span></li><li><span><a href=\"#Tipagem\" data-toc-modified-id=\"Tipagem-3.3\"><span class=\"toc-item-num\">3.3&nbsp;&nbsp;</span>Tipagem</a></span></li><li><span><a href=\"#Multi-processamento\" data-toc-modified-id=\"Multi-processamento-3.4\"><span class=\"toc-item-num\">3.4&nbsp;&nbsp;</span>Multi processamento</a></span></li></ul></li></ul></div>"
   ]
  },
  {
   "cell_type": "markdown",
   "metadata": {},
   "source": [
    "## Revisão das estruturas básicas"
   ]
  },
  {
   "cell_type": "markdown",
   "metadata": {},
   "source": [
    "### Strings"
   ]
  },
  {
   "cell_type": "code",
   "execution_count": 1,
   "metadata": {
    "ExecuteTime": {
     "end_time": "2019-10-02T11:37:25.148120Z",
     "start_time": "2019-10-02T11:37:25.144642Z"
    }
   },
   "outputs": [],
   "source": [
    "name = \"Luis\"\n",
    "rua = \"Alves Guimarães\"\n",
    "endereco = \"\"\"Rua Alves Guimarães, 150. \n",
    "Pinheiros, São Paulo.\"\"\""
   ]
  },
  {
   "cell_type": "code",
   "execution_count": 2,
   "metadata": {
    "ExecuteTime": {
     "end_time": "2019-10-02T11:37:25.157999Z",
     "start_time": "2019-10-02T11:37:25.153546Z"
    }
   },
   "outputs": [
    {
     "name": "stdout",
     "output_type": "stream",
     "text": [
      "Rua Alves Guimarães, 150. \n",
      "Pinheiros, São Paulo.\n"
     ]
    }
   ],
   "source": [
    "print(endereco)"
   ]
  },
  {
   "cell_type": "markdown",
   "metadata": {},
   "source": [
    "**Exercício**:\n",
    "1. Imprima uma variável onde esteja guardado o seu nome\n",
    "2. Imprima uma variável onde esteja guardado o seu endereço"
   ]
  },
  {
   "cell_type": "code",
   "execution_count": 3,
   "metadata": {},
   "outputs": [],
   "source": [
    "nome = 'João Paulo Ribeiro'\n",
    "endereco = \"Rua dos Eucaliptos, 08\""
   ]
  },
  {
   "cell_type": "code",
   "execution_count": 4,
   "metadata": {},
   "outputs": [
    {
     "name": "stdout",
     "output_type": "stream",
     "text": [
      "Nome = João Paulo Ribeiro \n",
      "Endereço = Rua dos Eucaliptos, 08\n"
     ]
    }
   ],
   "source": [
    "print(\"Nome = {} \\nEndereço = {}\".format(nome, endereco))"
   ]
  },
  {
   "cell_type": "markdown",
   "metadata": {},
   "source": [
    "### Números"
   ]
  },
  {
   "cell_type": "code",
   "execution_count": 5,
   "metadata": {
    "ExecuteTime": {
     "end_time": "2019-10-02T11:37:25.165620Z",
     "start_time": "2019-10-02T11:37:25.160519Z"
    }
   },
   "outputs": [
    {
     "name": "stdout",
     "output_type": "stream",
     "text": [
      "1.8\n",
      "30\n"
     ]
    }
   ],
   "source": [
    "from decimal import Decimal\n",
    "\n",
    "altura = 1.80\n",
    "altura = float(1.8)\n",
    "\n",
    "idade = 30\n",
    "idade = int(30)\n",
    "\n",
    "print(altura)\n",
    "print(idade)"
   ]
  },
  {
   "cell_type": "markdown",
   "metadata": {},
   "source": [
    "### Listas"
   ]
  },
  {
   "cell_type": "code",
   "execution_count": 6,
   "metadata": {
    "ExecuteTime": {
     "end_time": "2019-10-02T11:37:25.172007Z",
     "start_time": "2019-10-02T11:37:25.168300Z"
    }
   },
   "outputs": [
    {
     "name": "stdout",
     "output_type": "stream",
     "text": [
      "['O Estrangeiro', 'Em busca do tempo perdido', 'A insustentável leveza do ser']\n"
     ]
    }
   ],
   "source": [
    "livros = [\"O Estrangeiro\", \n",
    "          \"Em busca do tempo perdido\", \n",
    "          \"A insustentável leveza do ser\"]\n",
    "\n",
    "print(livros)"
   ]
  },
  {
   "cell_type": "code",
   "execution_count": 16,
   "metadata": {},
   "outputs": [],
   "source": [
    "livros.append(\"Ensaio sobre a Cegueira\")"
   ]
  },
  {
   "cell_type": "code",
   "execution_count": 7,
   "metadata": {
    "ExecuteTime": {
     "end_time": "2019-10-02T11:37:25.177663Z",
     "start_time": "2019-10-02T11:37:25.174182Z"
    }
   },
   "outputs": [
    {
     "name": "stdout",
     "output_type": "stream",
     "text": [
      "['O Estrangeiro', 'Em busca do tempo perdido', 'A insustentável leveza do ser', 42]\n"
     ]
    }
   ],
   "source": [
    "livros.append(42)\n",
    "print(livros)"
   ]
  },
  {
   "cell_type": "code",
   "execution_count": 8,
   "metadata": {
    "ExecuteTime": {
     "end_time": "2019-10-02T11:37:25.184468Z",
     "start_time": "2019-10-02T11:37:25.180076Z"
    }
   },
   "outputs": [
    {
     "name": "stdout",
     "output_type": "stream",
     "text": [
      "['O Estrangeiro', 'Em busca do tempo perdido', 'A insustentável leveza do ser', 42, 'O lobo da estepe', 'Cem anos de solição']\n"
     ]
    }
   ],
   "source": [
    "novos_livros = [\"O lobo da estepe\", \"Cem anos de solição\"]\n",
    "\n",
    "print(livros + novos_livros)"
   ]
  },
  {
   "cell_type": "code",
   "execution_count": 9,
   "metadata": {
    "ExecuteTime": {
     "end_time": "2019-10-02T11:37:25.190698Z",
     "start_time": "2019-10-02T11:37:25.187227Z"
    }
   },
   "outputs": [
    {
     "name": "stdout",
     "output_type": "stream",
     "text": [
      "['O Estrangeiro', 'Em busca do tempo perdido', 'A insustentável leveza do ser', 42, 'O lobo da estepe', 'Cem anos de solição']\n"
     ]
    }
   ],
   "source": [
    "livros.extend(novos_livros)\n",
    "print(livros)"
   ]
  },
  {
   "cell_type": "markdown",
   "metadata": {},
   "source": [
    "#### Acessando os elementos de uma lista"
   ]
  },
  {
   "cell_type": "code",
   "execution_count": 10,
   "metadata": {
    "ExecuteTime": {
     "end_time": "2019-10-02T11:37:25.205886Z",
     "start_time": "2019-10-02T11:37:25.193355Z"
    }
   },
   "outputs": [
    {
     "data": {
      "text/plain": [
       "'O Estrangeiro'"
      ]
     },
     "execution_count": 10,
     "metadata": {},
     "output_type": "execute_result"
    }
   ],
   "source": [
    "livros[0]"
   ]
  },
  {
   "cell_type": "code",
   "execution_count": 14,
   "metadata": {
    "ExecuteTime": {
     "end_time": "2019-10-02T11:37:25.211932Z",
     "start_time": "2019-10-02T11:37:25.207825Z"
    }
   },
   "outputs": [
    {
     "data": {
      "text/plain": [
       "['O Estrangeiro']"
      ]
     },
     "execution_count": 14,
     "metadata": {},
     "output_type": "execute_result"
    }
   ],
   "source": [
    "livros[0:1]"
   ]
  },
  {
   "cell_type": "code",
   "execution_count": 17,
   "metadata": {
    "ExecuteTime": {
     "end_time": "2019-10-02T11:37:25.219162Z",
     "start_time": "2019-10-02T11:37:25.214620Z"
    }
   },
   "outputs": [
    {
     "data": {
      "text/plain": [
       "['O Estrangeiro',\n",
       " 'Em busca do tempo perdido',\n",
       " 'A insustentável leveza do ser',\n",
       " 42,\n",
       " 'O lobo da estepe',\n",
       " 'Cem anos de solição',\n",
       " 'Ensaio sobre a Cegueira']"
      ]
     },
     "execution_count": 17,
     "metadata": {},
     "output_type": "execute_result"
    }
   ],
   "source": [
    "livros[0:]"
   ]
  },
  {
   "cell_type": "code",
   "execution_count": 18,
   "metadata": {
    "ExecuteTime": {
     "end_time": "2019-10-02T11:37:25.226175Z",
     "start_time": "2019-10-02T11:37:25.221384Z"
    }
   },
   "outputs": [
    {
     "data": {
      "text/plain": [
       "['O Estrangeiro', 'Em busca do tempo perdido']"
      ]
     },
     "execution_count": 18,
     "metadata": {},
     "output_type": "execute_result"
    }
   ],
   "source": [
    "livros[:2]"
   ]
  },
  {
   "cell_type": "code",
   "execution_count": 19,
   "metadata": {
    "ExecuteTime": {
     "end_time": "2019-10-02T11:37:25.231900Z",
     "start_time": "2019-10-02T11:37:25.228794Z"
    }
   },
   "outputs": [],
   "source": [
    "livros.remove(42)"
   ]
  },
  {
   "cell_type": "code",
   "execution_count": 20,
   "metadata": {
    "ExecuteTime": {
     "end_time": "2019-10-02T11:37:25.238538Z",
     "start_time": "2019-10-02T11:37:25.233862Z"
    }
   },
   "outputs": [
    {
     "data": {
      "text/plain": [
       "['O Estrangeiro',\n",
       " 'Em busca do tempo perdido',\n",
       " 'A insustentável leveza do ser',\n",
       " 'O lobo da estepe',\n",
       " 'Cem anos de solição',\n",
       " 'Ensaio sobre a Cegueira']"
      ]
     },
     "execution_count": 20,
     "metadata": {},
     "output_type": "execute_result"
    }
   ],
   "source": [
    "livros"
   ]
  },
  {
   "cell_type": "markdown",
   "metadata": {},
   "source": [
    "**Exercícios**\n",
    "1. Crie uma lista com o número 10 repetido 25 vezes\n",
    "2. Crie uma lista com o seu nome repetido 10 vezes\n",
    "3. Junte as duas listas criadas nos dois exercícios anteriores em uma só\n",
    "4. Retire o primeiro elemento da lista chamada `livros`\n",
    "5. Imprima o último elemento da lista `livros`\n",
    "6. Imprima o comprimento da lista `livros`\n",
    "7. Selecione o último elemento da lista `livros`\n",
    "8. Selecione os dois últimos elementos da lista `livros`"
   ]
  },
  {
   "cell_type": "code",
   "execution_count": 35,
   "metadata": {},
   "outputs": [
    {
     "name": "stdout",
     "output_type": "stream",
     "text": [
      "Lista Livros:\n",
      " ['O Estrangeiro', 'Em busca do tempo perdido', 'A insustentável leveza do ser']\n",
      "\n",
      "1. Crie uma lista com o número 10 repetido 25 vezes :\n",
      " [10, 10, 10, 10, 10, 10, 10, 10, 10, 10, 10, 10, 10, 10, 10, 10, 10, 10, 10, 10, 10, 10, 10, 10, 10]\n",
      "\n",
      "2. Crie uma lista com o seu nome repetido 10 vezes :\n",
      " ['João', 'João', 'João', 'João', 'João', 'João', 'João', 'João', 'João', 'João']\n",
      "\n",
      "3. Junte as duas listas criadas nos dois exercícios anteriores em uma só :\n",
      " [10, 10, 10, 10, 10, 10, 10, 10, 10, 10, 10, 10, 10, 10, 10, 10, 10, 10, 10, 10, 10, 10, 10, 10, 10, 'João', 'João', 'João', 'João', 'João', 'João', 'João', 'João', 'João', 'João']\n",
      "\n",
      "4. Retire o primeiro elemento da lista chamada `livros`: \n",
      "Antes:['O Estrangeiro', 'Em busca do tempo perdido', 'A insustentável leveza do ser']\n",
      "\n",
      "4. Retire o primeiro elemento da lista chamada `livros`: \n",
      "Depois:['Em busca do tempo perdido', 'A insustentável leveza do ser']\n",
      "\n",
      "5. Imprima o último elemento da lista `livros`:  A insustentável leveza do ser\n",
      "\n",
      "6. Imprima o comprimento da lista `livros`:  2\n",
      "\n",
      "7. Selecione o último elemento da lista `livros`:  A insustentável leveza do ser\n",
      "\n",
      "8. Selecione os dois últimos elementos da lista `livros`:  ['Em busca do tempo perdido', 'A insustentável leveza do ser']\n"
     ]
    }
   ],
   "source": [
    "livros.clear()\n",
    "livros = [\"O Estrangeiro\", \n",
    "          \"Em busca do tempo perdido\", \n",
    "          \"A insustentável leveza do ser\"]\n",
    "\n",
    "\n",
    "print(\"Lista Livros:\\n\", livros)\n",
    "\n",
    "# 1. Crie uma lista com o número 10 repetido 25 vezes\n",
    "lista_numero = [10] * 25\n",
    "print(\"\\n1. Crie uma lista com o número 10 repetido 25 vezes :\\n\", lista_numero)\n",
    "# 2. Crie uma lista com o seu nome repetido 10 vezes\n",
    "lista_nome = [\"João\"] * 10\n",
    "print(\"\\n2. Crie uma lista com o seu nome repetido 10 vezes :\\n\", lista_nome)\n",
    "# 3. Junte as duas listas criadas nos dois exercícios anteriores em uma só\n",
    "lista_agrupada = lista_numero + lista_nome\n",
    "print(\"\\n3. Junte as duas listas criadas nos dois exercícios anteriores em uma só :\\n\", lista_agrupada)\n",
    "# 4. Retire o primeiro elemento da lista chamada `livros`\n",
    "print(\"\\n4. Retire o primeiro elemento da lista chamada `livros`: \\nAntes:{}\".format(livros))\n",
    "del livros[0]\n",
    "print(\"\\n4. Retire o primeiro elemento da lista chamada `livros`: \\nDepois:{}\".format(livros))\n",
    "#livro = livros[0]\n",
    "# 5. Imprima o último elemento da lista `livros`\n",
    "print(\"\\n5. Imprima o último elemento da lista `livros`: \",livros[-1])\n",
    "# 6. Imprima o comprimento da lista `livros`\n",
    "print(\"\\n6. Imprima o comprimento da lista `livros`: \",len(livros))\n",
    "# 7. Selecione o último elemento da lista `livros`\n",
    "ultimo = livros[-1]\n",
    "print(\"\\n7. Selecione o último elemento da lista `livros`: \",ultimo)\n",
    "# 8. Selecione os dois últimos elementos da lista `livros`\n",
    "dois_ultimos = livros[-2:]\n",
    "print(\"\\n8. Selecione os dois últimos elementos da lista `livros`: \",dois_ultimos)"
   ]
  },
  {
   "cell_type": "code",
   "execution_count": null,
   "metadata": {},
   "outputs": [],
   "source": []
  },
  {
   "cell_type": "markdown",
   "metadata": {},
   "source": [
    "### Dicionário"
   ]
  },
  {
   "cell_type": "code",
   "execution_count": 36,
   "metadata": {
    "ExecuteTime": {
     "end_time": "2019-10-02T11:37:25.245362Z",
     "start_time": "2019-10-02T11:37:25.241958Z"
    }
   },
   "outputs": [],
   "source": [
    "pessoa = {\"nome\": \"Luis\",\n",
    "          \"sobrenome\": \"Moneda\",\n",
    "          \"idade\": 30}"
   ]
  },
  {
   "cell_type": "code",
   "execution_count": 37,
   "metadata": {
    "ExecuteTime": {
     "end_time": "2019-10-02T11:37:25.253179Z",
     "start_time": "2019-10-02T11:37:25.248531Z"
    }
   },
   "outputs": [
    {
     "data": {
      "text/plain": [
       "'Luis'"
      ]
     },
     "execution_count": 37,
     "metadata": {},
     "output_type": "execute_result"
    }
   ],
   "source": [
    "pessoa[\"nome\"]"
   ]
  },
  {
   "cell_type": "code",
   "execution_count": 38,
   "metadata": {
    "ExecuteTime": {
     "end_time": "2019-10-02T11:37:25.259645Z",
     "start_time": "2019-10-02T11:37:25.255408Z"
    }
   },
   "outputs": [
    {
     "data": {
      "text/plain": [
       "30"
      ]
     },
     "execution_count": 38,
     "metadata": {},
     "output_type": "execute_result"
    }
   ],
   "source": [
    "pessoa[\"idade\"]"
   ]
  },
  {
   "cell_type": "code",
   "execution_count": 39,
   "metadata": {
    "ExecuteTime": {
     "end_time": "2019-10-02T11:37:25.265779Z",
     "start_time": "2019-10-02T11:37:25.261737Z"
    }
   },
   "outputs": [
    {
     "data": {
      "text/plain": [
       "dict_keys(['nome', 'sobrenome', 'idade'])"
      ]
     },
     "execution_count": 39,
     "metadata": {},
     "output_type": "execute_result"
    }
   ],
   "source": [
    "pessoa.keys()"
   ]
  },
  {
   "cell_type": "code",
   "execution_count": 40,
   "metadata": {
    "ExecuteTime": {
     "end_time": "2019-10-02T11:37:25.272090Z",
     "start_time": "2019-10-02T11:37:25.267629Z"
    }
   },
   "outputs": [
    {
     "data": {
      "text/plain": [
       "dict_values(['Luis', 'Moneda', 30])"
      ]
     },
     "execution_count": 40,
     "metadata": {},
     "output_type": "execute_result"
    }
   ],
   "source": [
    "pessoa.values()"
   ]
  },
  {
   "cell_type": "code",
   "execution_count": 41,
   "metadata": {
    "ExecuteTime": {
     "end_time": "2019-10-02T11:37:25.278606Z",
     "start_time": "2019-10-02T11:37:25.273890Z"
    }
   },
   "outputs": [
    {
     "data": {
      "text/plain": [
       "dict_items([('nome', 'Luis'), ('sobrenome', 'Moneda'), ('idade', 30)])"
      ]
     },
     "execution_count": 41,
     "metadata": {},
     "output_type": "execute_result"
    }
   ],
   "source": [
    "pessoa.items()"
   ]
  },
  {
   "cell_type": "markdown",
   "metadata": {},
   "source": [
    "**Exercícios**\n",
    "1. Crie um dicionário chamado `cadastro` com os campos `nome`, `peso` e `altura`\n",
    "2. Atualize o campo peso para o valor anterior + 5 kg\n",
    "3. Crie um segundo dicionario chamado `nascimento` com os campos `data` e `cidade`\n",
    "4. Junte os dicionários `cadastro` e `nascimento`, mas matenha o resultado guardado em uma variável chamada `cadastro`\n",
    "5. Exclua o campo `peso` da variável `cadastro`\n",
    "6. Acesso o campo `nome do cachorro` no dicionário `cadastro` sem que ocorra um erro no código (obs: esse campo não existe, como acessar um campo inexistente sem erro no código?)"
   ]
  },
  {
   "cell_type": "code",
   "execution_count": 53,
   "metadata": {},
   "outputs": [
    {
     "name": "stdout",
     "output_type": "stream",
     "text": [
      "\n",
      "1. Crie um dicionário chamado `cadastro` com os campos `nome`, `peso` e `altura`: \n",
      " {'nome': 'João', 'peso': 102, 'altura': 1.75}\n",
      "\n",
      "2. Atualize o campo peso para o valor anterior + 5 kg: \n",
      "\n",
      "Anterior:  102\n",
      "Novo:  97\n",
      "\n",
      "3. Crie um segundo dicionario chamado `nascimento` com os campos `data` e `cidade`: \n",
      " {'data': '1991-10-24', 'cidade': 'São Paulo'}\n",
      "\n",
      "3. Crie um segundo dicionario chamado `nascimento` com os campos `data` e `cidade`: \n",
      " {'nome': 'João', 'peso': 97, 'altura': 1.75, 'data': '1991-10-24', 'cidade': 'São Paulo'}\n",
      "\n",
      "5. Exclua o campo `peso` da variável `cadastro`: \n",
      " {'nome': 'João', 'altura': 1.75, 'data': '1991-10-24', 'cidade': 'São Paulo'}\n",
      "\n",
      "6. Acesso o campo `nome do cachorro` no dicionário `cadastro` \n",
      " sem que ocorra um erro no código (obs: esse campo não existe, como acessar um \n",
      " campo inexistente sem erro no código?)\n",
      "Chave: \"nome do cachorro\" Não Existe no dicionario cadastro!\n"
     ]
    }
   ],
   "source": [
    "# 1. Crie um dicionário chamado `cadastro` com os campos `nome`, `peso` e `altura`\n",
    "cadastro = {\"nome\": \"João\",\n",
    "            \"peso\": 102,\n",
    "            \"altura\": 1.75}\n",
    "print(\"\\n1. Crie um dicionário chamado `cadastro` com os campos `nome`, `peso` e `altura`: \\n\",cadastro)\n",
    "\n",
    "# 2. Atualize o campo peso para o valor anterior + 5 kg\n",
    "print(\"\\n2. Atualize o campo peso para o valor anterior + 5 kg: \\n\")\n",
    "print(\"Anterior: \", cadastro[\"peso\"])\n",
    "cadastro[\"peso\"] -=5 # cadastro[\"peso\"] = cadastro[\"peso\"] - 5 \n",
    "print(\"Novo: \", cadastro[\"peso\"])\n",
    "\n",
    "# 3. Crie um segundo dicionario chamado `nascimento` com os campos `data` e `cidade`\n",
    "nascimento = {\"data\" : \"1991-10-24\",\n",
    "              \"cidade\" : \"São Paulo\"}\n",
    "print(\"\\n3. Crie um segundo dicionario chamado `nascimento` com os campos `data` e `cidade`: \\n\",nascimento)\n",
    "\n",
    "# 4. Junte os dicionários `cadastro` e `nascimento`, mas matenha o resultado guardado em uma variável chamada `cadastro`\n",
    "cadastro.update(nascimento)\n",
    "print(\"\\n3. Crie um segundo dicionario chamado `nascimento` com os campos `data` e `cidade`: \\n\",cadastro)\n",
    "\n",
    "# 5. Exclua o campo `peso` da variável `cadastro`\n",
    "cadastro.pop('peso', None)\n",
    "print(\"\\n5. Exclua o campo `peso` da variável `cadastro`: \\n\",cadastro)\n",
    "\n",
    "\n",
    "#6. Acesso o campo `nome do cachorro` no dicionário `cadastro` sem que \n",
    "# ocorra um erro no código (obs: esse campo não existe, como acessar um campo inexistente sem erro no código?)\n",
    "print(\"\\n6. Acesso o campo `nome do cachorro` no dicionário `cadastro` \\n sem que ocorra um erro no código (obs: esse campo não existe, como acessar um \\n campo inexistente sem erro no código?)\")\n",
    "if cadastro.get(\"nome do cachorro\") != None:\n",
    "      print('Chave: \"nome do cachorro\" Existe no dicionario cadastro!')\n",
    "else:\n",
    "      print('Chave: \"nome do cachorro\" Não Existe no dicionario cadastro!')\n",
    "        \n",
    "# cadastro.get(\"cachorro\", \"non ecxiste\")\n"
   ]
  },
  {
   "cell_type": "markdown",
   "metadata": {},
   "source": [
    "### Booleanos"
   ]
  },
  {
   "cell_type": "code",
   "execution_count": 54,
   "metadata": {
    "ExecuteTime": {
     "end_time": "2019-10-02T11:37:25.283509Z",
     "start_time": "2019-10-02T11:37:25.280316Z"
    }
   },
   "outputs": [],
   "source": [
    "cadastrado = True\n",
    "cliente = False"
   ]
  },
  {
   "cell_type": "code",
   "execution_count": 55,
   "metadata": {
    "ExecuteTime": {
     "end_time": "2019-10-02T11:37:25.289349Z",
     "start_time": "2019-10-02T11:37:25.285291Z"
    }
   },
   "outputs": [
    {
     "data": {
      "text/plain": [
       "True"
      ]
     },
     "execution_count": 55,
     "metadata": {},
     "output_type": "execute_result"
    }
   ],
   "source": [
    "cadastrado == True"
   ]
  },
  {
   "cell_type": "code",
   "execution_count": 56,
   "metadata": {
    "ExecuteTime": {
     "end_time": "2019-10-02T11:37:25.295878Z",
     "start_time": "2019-10-02T11:37:25.291025Z"
    }
   },
   "outputs": [
    {
     "data": {
      "text/plain": [
       "False"
      ]
     },
     "execution_count": 56,
     "metadata": {},
     "output_type": "execute_result"
    }
   ],
   "source": [
    "cadastrado == False"
   ]
  },
  {
   "cell_type": "code",
   "execution_count": 57,
   "metadata": {
    "ExecuteTime": {
     "end_time": "2019-10-02T11:37:25.302012Z",
     "start_time": "2019-10-02T11:37:25.297737Z"
    }
   },
   "outputs": [
    {
     "data": {
      "text/plain": [
       "False"
      ]
     },
     "execution_count": 57,
     "metadata": {},
     "output_type": "execute_result"
    }
   ],
   "source": [
    "cliente == True"
   ]
  },
  {
   "cell_type": "code",
   "execution_count": 58,
   "metadata": {
    "ExecuteTime": {
     "end_time": "2019-10-02T11:37:25.308483Z",
     "start_time": "2019-10-02T11:37:25.304522Z"
    }
   },
   "outputs": [
    {
     "data": {
      "text/plain": [
       "True"
      ]
     },
     "execution_count": 58,
     "metadata": {},
     "output_type": "execute_result"
    }
   ],
   "source": [
    "cliente == False"
   ]
  },
  {
   "cell_type": "code",
   "execution_count": 59,
   "metadata": {
    "ExecuteTime": {
     "end_time": "2019-10-02T11:37:25.314443Z",
     "start_time": "2019-10-02T11:37:25.310600Z"
    }
   },
   "outputs": [
    {
     "name": "stdout",
     "output_type": "stream",
     "text": [
      "True\n",
      "True\n"
     ]
    }
   ],
   "source": [
    "print(False == 0)\n",
    "print(True == 1)"
   ]
  },
  {
   "cell_type": "markdown",
   "metadata": {},
   "source": [
    "Equivalentes para o False: 0, \"\", [], {} e None\n",
    "\n",
    "Equivalentes para o True: 1, \"algo\", [1, 2, 3], {\"alguma\"; \"coisa\"}"
   ]
  },
  {
   "cell_type": "markdown",
   "metadata": {},
   "source": [
    "### Operações matemáticas"
   ]
  },
  {
   "cell_type": "code",
   "execution_count": 60,
   "metadata": {
    "ExecuteTime": {
     "end_time": "2019-10-02T11:37:25.319635Z",
     "start_time": "2019-10-02T11:37:25.316879Z"
    }
   },
   "outputs": [],
   "source": [
    "x = 10"
   ]
  },
  {
   "cell_type": "code",
   "execution_count": 61,
   "metadata": {
    "ExecuteTime": {
     "end_time": "2019-10-02T11:37:25.325745Z",
     "start_time": "2019-10-02T11:37:25.321521Z"
    }
   },
   "outputs": [
    {
     "data": {
      "text/plain": [
       "11"
      ]
     },
     "execution_count": 61,
     "metadata": {},
     "output_type": "execute_result"
    }
   ],
   "source": [
    "x += 1\n",
    "x"
   ]
  },
  {
   "cell_type": "code",
   "execution_count": 62,
   "metadata": {
    "ExecuteTime": {
     "end_time": "2019-10-02T11:37:25.335428Z",
     "start_time": "2019-10-02T11:37:25.330895Z"
    }
   },
   "outputs": [
    {
     "data": {
      "text/plain": [
       "10"
      ]
     },
     "execution_count": 62,
     "metadata": {},
     "output_type": "execute_result"
    }
   ],
   "source": [
    "x -= 1\n",
    "x"
   ]
  },
  {
   "cell_type": "code",
   "execution_count": 63,
   "metadata": {
    "ExecuteTime": {
     "end_time": "2019-10-02T11:37:25.342716Z",
     "start_time": "2019-10-02T11:37:25.338467Z"
    }
   },
   "outputs": [
    {
     "data": {
      "text/plain": [
       "20"
      ]
     },
     "execution_count": 63,
     "metadata": {},
     "output_type": "execute_result"
    }
   ],
   "source": [
    "y = x + 10\n",
    "y"
   ]
  },
  {
   "cell_type": "code",
   "execution_count": 64,
   "metadata": {
    "ExecuteTime": {
     "end_time": "2019-10-02T11:37:25.349838Z",
     "start_time": "2019-10-02T11:37:25.345018Z"
    }
   },
   "outputs": [
    {
     "data": {
      "text/plain": [
       "5"
      ]
     },
     "execution_count": 64,
     "metadata": {},
     "output_type": "execute_result"
    }
   ],
   "source": [
    "y = x - 5\n",
    "y"
   ]
  },
  {
   "cell_type": "code",
   "execution_count": 31,
   "metadata": {
    "ExecuteTime": {
     "end_time": "2019-10-02T11:37:25.356276Z",
     "start_time": "2019-10-02T11:37:25.351691Z"
    }
   },
   "outputs": [
    {
     "data": {
      "text/plain": [
       "3.3333333333333335"
      ]
     },
     "execution_count": 31,
     "metadata": {},
     "output_type": "execute_result"
    }
   ],
   "source": [
    "y = x / 3\n",
    "y"
   ]
  },
  {
   "cell_type": "code",
   "execution_count": 32,
   "metadata": {
    "ExecuteTime": {
     "end_time": "2019-10-02T11:37:25.363097Z",
     "start_time": "2019-10-02T11:37:25.358604Z"
    }
   },
   "outputs": [
    {
     "data": {
      "text/plain": [
       "3"
      ]
     },
     "execution_count": 32,
     "metadata": {},
     "output_type": "execute_result"
    }
   ],
   "source": [
    "y = x // 3\n",
    "y"
   ]
  },
  {
   "cell_type": "code",
   "execution_count": 33,
   "metadata": {
    "ExecuteTime": {
     "end_time": "2019-10-02T11:37:25.369552Z",
     "start_time": "2019-10-02T11:37:25.365240Z"
    }
   },
   "outputs": [
    {
     "data": {
      "text/plain": [
       "30"
      ]
     },
     "execution_count": 33,
     "metadata": {},
     "output_type": "execute_result"
    }
   ],
   "source": [
    "y = x * 3\n",
    "y"
   ]
  },
  {
   "cell_type": "code",
   "execution_count": 34,
   "metadata": {
    "ExecuteTime": {
     "end_time": "2019-10-02T11:37:25.376210Z",
     "start_time": "2019-10-02T11:37:25.371714Z"
    }
   },
   "outputs": [
    {
     "data": {
      "text/plain": [
       "1000"
      ]
     },
     "execution_count": 34,
     "metadata": {},
     "output_type": "execute_result"
    }
   ],
   "source": [
    "y = x ** 3\n",
    "y"
   ]
  },
  {
   "cell_type": "code",
   "execution_count": 35,
   "metadata": {
    "ExecuteTime": {
     "end_time": "2019-10-02T11:37:25.383886Z",
     "start_time": "2019-10-02T11:37:25.378322Z"
    }
   },
   "outputs": [
    {
     "data": {
      "text/plain": [
       "1"
      ]
     },
     "execution_count": 35,
     "metadata": {},
     "output_type": "execute_result"
    }
   ],
   "source": [
    "y = x % 3\n",
    "y"
   ]
  },
  {
   "cell_type": "markdown",
   "metadata": {},
   "source": [
    "**Exercícios**\n",
    "1. Qual é o ângulo fundamental de um ângulo de 1320?\n",
    "2. Quanto é a raiz quadrada de 90?"
   ]
  },
  {
   "cell_type": "markdown",
   "metadata": {},
   "source": [
    "### Manipulação de strings"
   ]
  },
  {
   "cell_type": "code",
   "execution_count": 66,
   "metadata": {
    "ExecuteTime": {
     "end_time": "2019-10-02T11:37:25.389884Z",
     "start_time": "2019-10-02T11:37:25.386042Z"
    }
   },
   "outputs": [
    {
     "name": "stdout",
     "output_type": "stream",
     "text": [
      "Luis Moneda\n"
     ]
    }
   ],
   "source": [
    "nome = \"Luis\"\n",
    "sobrenome = \"Moneda\"\n",
    "print(nome + \" \" + sobrenome)"
   ]
  },
  {
   "cell_type": "markdown",
   "metadata": {},
   "source": [
    "**Exercício**\n",
    "\n",
    "1. Arrume o print do `nome` e `sobrenome` para conter um espaço\n",
    "2. Imprima as iniciais do seu nome manipulando as string de `nome` e `sobrenome`"
   ]
  },
  {
   "cell_type": "markdown",
   "metadata": {},
   "source": [
    "### Operadores lógicos"
   ]
  },
  {
   "cell_type": "code",
   "execution_count": 67,
   "metadata": {
    "ExecuteTime": {
     "end_time": "2019-10-02T11:37:25.398019Z",
     "start_time": "2019-10-02T11:37:25.391884Z"
    }
   },
   "outputs": [
    {
     "name": "stdout",
     "output_type": "stream",
     "text": [
      "Operação lógica \"and\" (e):\n",
      "Falso e Falso = False\n",
      "Falso e Verdadeiro = False\n",
      "Verdadeiro e Falso = False\n",
      "Verdadeiro e Verdadeiro = True\n"
     ]
    }
   ],
   "source": [
    "print(\"Operação lógica \\\"and\\\" (e):\")\n",
    "print(\"Falso e Falso = {}\".format(False and False))\n",
    "print(\"Falso e Verdadeiro = {}\".format(False and True))\n",
    "print(\"Verdadeiro e Falso = {}\".format(True and False))\n",
    "print(\"Verdadeiro e Verdadeiro = {}\".format(True and True))"
   ]
  },
  {
   "cell_type": "code",
   "execution_count": 69,
   "metadata": {
    "ExecuteTime": {
     "end_time": "2019-10-02T11:37:25.405770Z",
     "start_time": "2019-10-02T11:37:25.400172Z"
    }
   },
   "outputs": [
    {
     "name": "stdout",
     "output_type": "stream",
     "text": [
      "Operação lógica \"or\" (ou):\n",
      "Falso ou Falso = False\n",
      "Falso ou Verdadeiro = True\n",
      "Verdadeiro ou Falso = True\n",
      "Verdadeiro ou Verdadeiro = True\n"
     ]
    }
   ],
   "source": [
    "print(\"Operação lógica \\\"or\\\" (ou):\")\n",
    "print(\"Falso ou Falso = {}\".format(False or False))\n",
    "print(\"Falso ou Verdadeiro = {}\".format(False or True))\n",
    "print(\"Verdadeiro ou Falso = {}\".format(True or False))\n",
    "print(\"Verdadeiro ou Verdadeiro = {}\".format(True or True))"
   ]
  },
  {
   "cell_type": "code",
   "execution_count": 70,
   "metadata": {
    "ExecuteTime": {
     "end_time": "2019-10-02T11:37:25.411572Z",
     "start_time": "2019-10-02T11:37:25.407494Z"
    }
   },
   "outputs": [
    {
     "name": "stdout",
     "output_type": "stream",
     "text": [
      "Negação \"not\" (não):\n",
      "Não Falso = True\n",
      "Não Verdadeiro = False\n"
     ]
    }
   ],
   "source": [
    "print(\"Negação \\\"not\\\" (não):\")\n",
    "print(\"Não Falso = {}\".format(not False))\n",
    "print(\"Não Verdadeiro = {}\".format(not True))"
   ]
  },
  {
   "cell_type": "markdown",
   "metadata": {},
   "source": [
    "Composição:"
   ]
  },
  {
   "cell_type": "code",
   "execution_count": 71,
   "metadata": {
    "ExecuteTime": {
     "end_time": "2019-10-02T11:37:25.418468Z",
     "start_time": "2019-10-02T11:37:25.413953Z"
    }
   },
   "outputs": [
    {
     "data": {
      "text/plain": [
       "False"
      ]
     },
     "execution_count": 71,
     "metadata": {},
     "output_type": "execute_result"
    }
   ],
   "source": [
    "(True and (False or not True))"
   ]
  },
  {
   "cell_type": "markdown",
   "metadata": {},
   "source": [
    "Em casos reais, seriam variáveis guardando os booleanos:"
   ]
  },
  {
   "cell_type": "code",
   "execution_count": 72,
   "metadata": {
    "ExecuteTime": {
     "end_time": "2019-10-02T11:37:25.425679Z",
     "start_time": "2019-10-02T11:37:25.420333Z"
    }
   },
   "outputs": [
    {
     "name": "stdout",
     "output_type": "stream",
     "text": [
      "cadastrado: True\n",
      "cliente: False\n",
      "cadastrado e cliente: False\n",
      "cadastrado ou cliente: False\n"
     ]
    }
   ],
   "source": [
    "print(\"cadastrado: {}\".format(cadastrado))\n",
    "print(\"cliente: {}\".format(cliente))\n",
    "print(\"cadastrado e cliente: {}\".format(cadastrado and cliente))\n",
    "print(\"cadastrado ou cliente: {}\".format(cadastrado and cliente))"
   ]
  },
  {
   "cell_type": "markdown",
   "metadata": {},
   "source": [
    "### Comparação"
   ]
  },
  {
   "cell_type": "code",
   "execution_count": 73,
   "metadata": {
    "ExecuteTime": {
     "end_time": "2019-10-02T11:37:25.432296Z",
     "start_time": "2019-10-02T11:37:25.427622Z"
    }
   },
   "outputs": [
    {
     "data": {
      "text/plain": [
       "True"
      ]
     },
     "execution_count": 73,
     "metadata": {},
     "output_type": "execute_result"
    }
   ],
   "source": [
    "#Identidade\n",
    "1 is 1 == True"
   ]
  },
  {
   "cell_type": "code",
   "execution_count": 74,
   "metadata": {
    "ExecuteTime": {
     "end_time": "2019-10-02T11:37:25.439067Z",
     "start_time": "2019-10-02T11:37:25.434535Z"
    }
   },
   "outputs": [
    {
     "data": {
      "text/plain": [
       "False"
      ]
     },
     "execution_count": 74,
     "metadata": {},
     "output_type": "execute_result"
    }
   ],
   "source": [
    "#Negação da identidade\n",
    "1 is not \"1\" == True"
   ]
  },
  {
   "cell_type": "code",
   "execution_count": 75,
   "metadata": {
    "ExecuteTime": {
     "end_time": "2019-10-02T11:37:25.446090Z",
     "start_time": "2019-10-02T11:37:25.441384Z"
    }
   },
   "outputs": [
    {
     "data": {
      "text/plain": [
       "True"
      ]
     },
     "execution_count": 75,
     "metadata": {},
     "output_type": "execute_result"
    }
   ],
   "source": [
    "bool(1) == True"
   ]
  },
  {
   "cell_type": "code",
   "execution_count": 76,
   "metadata": {
    "ExecuteTime": {
     "end_time": "2019-10-02T11:37:25.452648Z",
     "start_time": "2019-10-02T11:37:25.447724Z"
    }
   },
   "outputs": [
    {
     "data": {
      "text/plain": [
       "True"
      ]
     },
     "execution_count": 76,
     "metadata": {},
     "output_type": "execute_result"
    }
   ],
   "source": [
    "bool(True) == True"
   ]
  },
  {
   "cell_type": "code",
   "execution_count": 77,
   "metadata": {
    "ExecuteTime": {
     "end_time": "2019-10-02T11:37:25.462910Z",
     "start_time": "2019-10-02T11:37:25.455923Z"
    }
   },
   "outputs": [
    {
     "data": {
      "text/plain": [
       "True"
      ]
     },
     "execution_count": 77,
     "metadata": {},
     "output_type": "execute_result"
    }
   ],
   "source": [
    "1 and True == True"
   ]
  },
  {
   "cell_type": "code",
   "execution_count": 78,
   "metadata": {
    "ExecuteTime": {
     "end_time": "2019-10-02T11:37:25.468668Z",
     "start_time": "2019-10-02T11:37:25.464736Z"
    }
   },
   "outputs": [
    {
     "data": {
      "text/plain": [
       "False"
      ]
     },
     "execution_count": 78,
     "metadata": {},
     "output_type": "execute_result"
    }
   ],
   "source": [
    "1 is True == False"
   ]
  },
  {
   "cell_type": "markdown",
   "metadata": {},
   "source": [
    "### Condicional"
   ]
  },
  {
   "cell_type": "code",
   "execution_count": 79,
   "metadata": {
    "ExecuteTime": {
     "end_time": "2019-10-02T11:37:25.477345Z",
     "start_time": "2019-10-02T11:37:25.471486Z"
    }
   },
   "outputs": [
    {
     "name": "stdout",
     "output_type": "stream",
     "text": [
      "B\n"
     ]
    }
   ],
   "source": [
    "nota = 82\n",
    "if nota >= 90:\n",
    "    if nota == 100:\n",
    "        print(\"A+\")\n",
    "    else:\n",
    "        print(\"A\")\n",
    "elif nota >= 80:\n",
    "    print(\"B\")\n",
    "elif nota >= 70:\n",
    "    print(\"C\")\n",
    "else:\n",
    "    print(\"F\")"
   ]
  },
  {
   "cell_type": "markdown",
   "metadata": {},
   "source": [
    "**Exercícios**:\n",
    "\n",
    "1. "
   ]
  },
  {
   "cell_type": "markdown",
   "metadata": {},
   "source": [
    "### Loops"
   ]
  },
  {
   "cell_type": "code",
   "execution_count": 84,
   "metadata": {
    "ExecuteTime": {
     "end_time": "2019-10-02T11:37:25.483598Z",
     "start_time": "2019-10-02T11:37:25.479090Z"
    }
   },
   "outputs": [
    {
     "name": "stdout",
     "output_type": "stream",
     "text": [
      "0\n",
      "1\n",
      "2\n",
      "3\n",
      "4\n",
      "5\n",
      "6\n",
      "7\n",
      "8\n",
      "9\n"
     ]
    }
   ],
   "source": [
    "# For loop\n",
    "for i in range(10):\n",
    "    print(i)"
   ]
  },
  {
   "cell_type": "code",
   "execution_count": 85,
   "metadata": {
    "ExecuteTime": {
     "end_time": "2019-10-02T11:37:25.490177Z",
     "start_time": "2019-10-02T11:37:25.485888Z"
    }
   },
   "outputs": [
    {
     "name": "stdout",
     "output_type": "stream",
     "text": [
      "Em busca do tempo perdido\n",
      "A insustentável leveza do ser\n"
     ]
    }
   ],
   "source": [
    "for livro in livros:\n",
    "    print(livro)"
   ]
  },
  {
   "cell_type": "code",
   "execution_count": 86,
   "metadata": {
    "ExecuteTime": {
     "end_time": "2019-10-02T11:37:25.496656Z",
     "start_time": "2019-10-02T11:37:25.492029Z"
    }
   },
   "outputs": [
    {
     "name": "stdout",
     "output_type": "stream",
     "text": [
      "Em busca do tempo perdido\n",
      "A insustentável leveza do ser\n"
     ]
    }
   ],
   "source": [
    "i = 0\n",
    "while i < len(livros):\n",
    "    print(livros[i])\n",
    "    i += 1"
   ]
  },
  {
   "cell_type": "markdown",
   "metadata": {},
   "source": [
    "**Exercícios**:\n",
    "\n",
    "1. Faça um loop que percorra uma lista com valores de 0 até 100 e crie duas novas listas, uma apenas com os pares e outra com os ímpares.\n",
    "2. Faça um for loop que percorra o dicionário `pessoa` e imprima as chaves seguidas dos valores\n",
    "3. Percorra a lista `livros` e guarde em um dicionário a quantidade de vogais e consoantes presentes no nome de todos os livros.\n",
    "4. Faça o mesmo que o acima, mas em um dicionário que contenha essa contagem discriminada por título."
   ]
  },
  {
   "cell_type": "markdown",
   "metadata": {},
   "source": [
    "### Funções"
   ]
  },
  {
   "cell_type": "code",
   "execution_count": 87,
   "metadata": {
    "ExecuteTime": {
     "end_time": "2019-10-02T11:37:25.511229Z",
     "start_time": "2019-10-02T11:37:25.502906Z"
    }
   },
   "outputs": [
    {
     "name": "stdout",
     "output_type": "stream",
     "text": [
      "3\n"
     ]
    }
   ],
   "source": [
    "def f(x):\n",
    "    return x + 1\n",
    "\n",
    "print(f(2))"
   ]
  },
  {
   "cell_type": "code",
   "execution_count": 88,
   "metadata": {
    "ExecuteTime": {
     "end_time": "2019-10-02T11:37:25.522810Z",
     "start_time": "2019-10-02T11:37:25.515379Z"
    }
   },
   "outputs": [],
   "source": [
    "def contador_de_vogais(palavra):\n",
    "    vogais = [letra for letra in \"aeiou\"]\n",
    "    return sum([1 for letra in palavra if letra in vogais])"
   ]
  },
  {
   "cell_type": "code",
   "execution_count": 89,
   "metadata": {
    "ExecuteTime": {
     "end_time": "2019-10-02T11:37:25.530577Z",
     "start_time": "2019-10-02T11:37:25.525250Z"
    }
   },
   "outputs": [
    {
     "name": "stdout",
     "output_type": "stream",
     "text": [
      "125\n",
      "25\n",
      "4\n"
     ]
    }
   ],
   "source": [
    "def potencia(base, expoente=2):\n",
    "    return base ** expoente\n",
    "\n",
    "print(potencia(5, 3))\n",
    "print(potencia(5))\n",
    "print(potencia(2))"
   ]
  },
  {
   "cell_type": "markdown",
   "metadata": {},
   "source": [
    "**Exercícios**:\n",
    "\n",
    "1. Reescreva a solução do exercício que conta as vogais e consoantes dos títulos dos livros usando a função `contador_de_vogais` e crie uma `contador_de_consoantes`.\n",
    "2. Crie uma função que receba uma palavra e devolva um dicionário com o número de vogais e consoantes naquela palavra.\n",
    "3. Reescreva a solução do exercício que faz para a lista toda de `livros` e aplique todas as funções escritas anteriormente."
   ]
  },
  {
   "cell_type": "markdown",
   "metadata": {},
   "source": [
    "### Identação"
   ]
  },
  {
   "cell_type": "code",
   "execution_count": 90,
   "metadata": {
    "ExecuteTime": {
     "end_time": "2019-10-02T11:37:25.537052Z",
     "start_time": "2019-10-02T11:37:25.533047Z"
    }
   },
   "outputs": [
    {
     "ename": "IndentationError",
     "evalue": "expected an indented block (<ipython-input-90-e56025851996>, line 3)",
     "output_type": "error",
     "traceback": [
      "\u001b[1;36m  File \u001b[1;32m\"<ipython-input-90-e56025851996>\"\u001b[1;36m, line \u001b[1;32m3\u001b[0m\n\u001b[1;33m    print(\"Não estou identado! :(\")\u001b[0m\n\u001b[1;37m        ^\u001b[0m\n\u001b[1;31mIndentationError\u001b[0m\u001b[1;31m:\u001b[0m expected an indented block\n"
     ]
    }
   ],
   "source": [
    "# É obrigatória e faz parte da linguagem, não é só estilo de código\n",
    "if True:\n",
    "print(\"Não estou identado! :(\")"
   ]
  },
  {
   "cell_type": "code",
   "execution_count": 56,
   "metadata": {
    "ExecuteTime": {
     "end_time": "2019-10-02T11:37:33.205661Z",
     "start_time": "2019-10-02T11:37:33.201955Z"
    }
   },
   "outputs": [
    {
     "name": "stdout",
     "output_type": "stream",
     "text": [
      "Agora sim!\n"
     ]
    }
   ],
   "source": [
    "if True:\n",
    "    print(\"Agora sim!\")"
   ]
  },
  {
   "cell_type": "markdown",
   "metadata": {},
   "source": [
    "## Elementos intermediários"
   ]
  },
  {
   "cell_type": "markdown",
   "metadata": {},
   "source": [
    "### List comprehension"
   ]
  },
  {
   "cell_type": "code",
   "execution_count": 91,
   "metadata": {
    "ExecuteTime": {
     "end_time": "2019-10-02T11:37:33.885334Z",
     "start_time": "2019-10-02T11:37:33.880489Z"
    }
   },
   "outputs": [
    {
     "data": {
      "text/plain": [
       "[0, 1, 2, 3, 4, 5, 6, 7, 8, 9]"
      ]
     },
     "execution_count": 91,
     "metadata": {},
     "output_type": "execute_result"
    }
   ],
   "source": [
    "[i for i in range(10)]"
   ]
  },
  {
   "cell_type": "code",
   "execution_count": 92,
   "metadata": {
    "ExecuteTime": {
     "end_time": "2019-10-02T11:37:34.638357Z",
     "start_time": "2019-10-02T11:37:34.633830Z"
    }
   },
   "outputs": [
    {
     "data": {
      "text/plain": [
       "['Olá, Luis', 'Olá, Matheus', 'Olá, Carlos']"
      ]
     },
     "execution_count": 92,
     "metadata": {},
     "output_type": "execute_result"
    }
   ],
   "source": [
    "nomes = [\"Luis\", \"Matheus\", \"Carlos\"]\n",
    "[\"Olá, \" + nome for nome in nomes]"
   ]
  },
  {
   "cell_type": "code",
   "execution_count": 93,
   "metadata": {
    "ExecuteTime": {
     "end_time": "2019-10-02T11:37:34.848937Z",
     "start_time": "2019-10-02T11:37:34.844334Z"
    }
   },
   "outputs": [
    {
     "data": {
      "text/plain": [
       "[2, 3, 2]"
      ]
     },
     "execution_count": 93,
     "metadata": {},
     "output_type": "execute_result"
    }
   ],
   "source": [
    "[contador_de_vogais(nome) for nome in nomes]"
   ]
  },
  {
   "cell_type": "markdown",
   "metadata": {},
   "source": [
    "**Exercício**:\n",
    "\n",
    "1. Reescreva a solução para a contagem de vogais e consoantes em cada título de `livros` usando list comprehension de alguma forma!"
   ]
  },
  {
   "cell_type": "markdown",
   "metadata": {},
   "source": [
    "### PEP8\n",
    "\n",
    "Agora sim é sobre estilo! Embora a identação seja obrigatória para que o código funcione, ainda assim há muitas formas diferentes de escrever um código e que funcionam:"
   ]
  },
  {
   "cell_type": "code",
   "execution_count": 94,
   "metadata": {
    "ExecuteTime": {
     "end_time": "2019-10-02T11:37:35.430627Z",
     "start_time": "2019-10-02T11:37:35.427604Z"
    }
   },
   "outputs": [],
   "source": [
    "x=1\n",
    "x = 1"
   ]
  },
  {
   "cell_type": "code",
   "execution_count": 95,
   "metadata": {
    "ExecuteTime": {
     "end_time": "2019-10-02T11:37:35.634601Z",
     "start_time": "2019-10-02T11:37:35.631819Z"
    }
   },
   "outputs": [],
   "source": [
    "def funcao(x = 1) :\n",
    "    print(x)"
   ]
  },
  {
   "cell_type": "code",
   "execution_count": 96,
   "metadata": {
    "ExecuteTime": {
     "end_time": "2019-10-02T11:37:35.847974Z",
     "start_time": "2019-10-02T11:37:35.845141Z"
    }
   },
   "outputs": [],
   "source": [
    "def funcao(x=1):\n",
    "    print(x)"
   ]
  },
  {
   "cell_type": "markdown",
   "metadata": {},
   "source": [
    "Qual a forma certa de escrever? \n",
    "A sugestão é seguir o [PEP8](https://www.python.org/dev/peps/pep-0008/)!"
   ]
  },
  {
   "cell_type": "markdown",
   "metadata": {},
   "source": [
    "### Ser \"Pythonico\"\n",
    "\n",
    "*Pythonic* pode ser traduzido como: a melhor forma de fazer algo em Python. Ou seja, explorando as possibilidades da linguagem.\n",
    "\n",
    "Objetivamente, isso tem um impacto maior em quem vem de outras linguagens, pois a tendência é traduzir literalmente a solução de uma linguagem para a outra e ignorar as diferenças que tornariam a tarefa mais fácil em Python.\n",
    "\n",
    "É parecido com quem aprende uma lingua nova e faz traduções literais, enquanto um nativo vai usar estruturas mais próprias da linguagem. \n",
    "\n",
    "[Fonte dos exemplos](https://towardsdatascience.com/how-to-be-pythonic-and-why-you-should-care-188d63a5037e)."
   ]
  },
  {
   "cell_type": "markdown",
   "metadata": {},
   "source": [
    "Programa em C:\n",
    "\n",
    "```\n",
    "int a = 10;\n",
    "int b = 1000;\n",
    "int total_sum = 0;while (b >= a) {\n",
    "    total_sum += a;\n",
    "    a++;\n",
    "}\n",
    "```\n",
    "\n",
    "Em python traduzido literalmente:"
   ]
  },
  {
   "cell_type": "code",
   "execution_count": 63,
   "metadata": {
    "ExecuteTime": {
     "end_time": "2019-10-02T11:37:36.662426Z",
     "start_time": "2019-10-02T11:37:36.658109Z"
    }
   },
   "outputs": [
    {
     "name": "stdout",
     "output_type": "stream",
     "text": [
      "A soma total é: 500455\n"
     ]
    }
   ],
   "source": [
    "a = 10\n",
    "b = 1000\n",
    "soma_total = 0 \n",
    "while b >= a:\n",
    "    soma_total += a\n",
    "    a += 1\n",
    "    \n",
    "print(\"A soma total é: {}\".format(soma_total))    "
   ]
  },
  {
   "cell_type": "code",
   "execution_count": 97,
   "metadata": {
    "ExecuteTime": {
     "end_time": "2019-10-02T11:37:36.868449Z",
     "start_time": "2019-10-02T11:37:36.864904Z"
    }
   },
   "outputs": [
    {
     "name": "stdout",
     "output_type": "stream",
     "text": [
      "A soma total é: 500455\n"
     ]
    }
   ],
   "source": [
    "soma_total = sum(range(10, 1001))\n",
    "print(\"A soma total é: {}\".format(soma_total))    "
   ]
  },
  {
   "cell_type": "markdown",
   "metadata": {},
   "source": [
    "Exemplo em C:\n",
    "\n",
    "```\n",
    "#include <stdbool.h>\n",
    "char * arr[] = {\"apples\", \"oranges\", \"bananas\", \"grapes\"};\n",
    "char * s = \"cherries\";\n",
    "bool found = false;\n",
    "int len = sizeof(arr) / sizeof(arr[0]);for (int i = 0; i < len; i++) {\n",
    "    if (!strcmp(arr[i], s)) {\n",
    "        found = true;\n",
    "    }\n",
    "}\n",
    "```\n",
    "\n",
    "Em Python traduzindo literalmente:"
   ]
  },
  {
   "cell_type": "code",
   "execution_count": 98,
   "metadata": {
    "ExecuteTime": {
     "end_time": "2019-10-02T11:37:37.269966Z",
     "start_time": "2019-10-02T11:37:37.265351Z"
    }
   },
   "outputs": [
    {
     "name": "stdout",
     "output_type": "stream",
     "text": [
      "A fruta desejada está na lista de frutas? False\n"
     ]
    }
   ],
   "source": [
    "frutas = [\"apples\", \"oranges\", \"bananas\", \"grapes\"]\n",
    "fruta_desejada = \"cherries\"\n",
    "encontrado = False\n",
    "tamanho = len(frutas)\n",
    "for i in range(0, tamanho):\n",
    "    if frutas[i] == fruta_desejada:\n",
    "        encontrado = True\n",
    "\n",
    "print(\"A fruta desejada está na lista de frutas? {}\".format(encontrado))"
   ]
  },
  {
   "cell_type": "code",
   "execution_count": 99,
   "metadata": {
    "ExecuteTime": {
     "end_time": "2019-10-02T11:37:37.469949Z",
     "start_time": "2019-10-02T11:37:37.466355Z"
    }
   },
   "outputs": [
    {
     "name": "stdout",
     "output_type": "stream",
     "text": [
      "A fruta desejada está na lista de frutas? False\n"
     ]
    }
   ],
   "source": [
    "frutas = [\"apples\", \"oranges\", \"bananas\", \"grapes\"]\n",
    "encontrado = \"cherries\" in frutas\n",
    "print(\"A fruta desejada está na lista de frutas? {}\".format(encontrado))"
   ]
  },
  {
   "cell_type": "markdown",
   "metadata": {},
   "source": [
    "## Elementos avançados\n",
    "\n",
    "Geralmente, são "
   ]
  },
  {
   "cell_type": "markdown",
   "metadata": {},
   "source": []
  },
  {
   "cell_type": "markdown",
   "metadata": {},
   "source": [
    "### Testes unitários"
   ]
  },
  {
   "cell_type": "code",
   "execution_count": 100,
   "metadata": {
    "ExecuteTime": {
     "end_time": "2019-10-02T11:37:38.476454Z",
     "start_time": "2019-10-02T11:37:38.472000Z"
    }
   },
   "outputs": [],
   "source": [
    "def divisao(dividendo, divisor):\n",
    "    return dividendo / divisor\n",
    "\n",
    "assert divisao(10, 2) == 5    "
   ]
  },
  {
   "cell_type": "code",
   "execution_count": 101,
   "metadata": {
    "ExecuteTime": {
     "end_time": "2019-10-02T11:37:38.711651Z",
     "start_time": "2019-10-02T11:37:38.703600Z"
    }
   },
   "outputs": [
    {
     "ename": "AssertionError",
     "evalue": "",
     "output_type": "error",
     "traceback": [
      "\u001b[1;31m---------------------------------------------------------------------------\u001b[0m",
      "\u001b[1;31mAssertionError\u001b[0m                            Traceback (most recent call last)",
      "\u001b[1;32m<ipython-input-101-b490a6622855>\u001b[0m in \u001b[0;36m<module>\u001b[1;34m\u001b[0m\n\u001b[1;32m----> 1\u001b[1;33m \u001b[1;32massert\u001b[0m \u001b[0mdivisao\u001b[0m\u001b[1;33m(\u001b[0m\u001b[1;36m10\u001b[0m\u001b[1;33m,\u001b[0m \u001b[1;36m2\u001b[0m\u001b[1;33m)\u001b[0m \u001b[1;33m==\u001b[0m \u001b[1;36m2\u001b[0m\u001b[1;33m\u001b[0m\u001b[1;33m\u001b[0m\u001b[0m\n\u001b[0m",
      "\u001b[1;31mAssertionError\u001b[0m: "
     ]
    }
   ],
   "source": [
    "assert divisao(10, 2) == 2"
   ]
  },
  {
   "cell_type": "code",
   "execution_count": 104,
   "metadata": {
    "ExecuteTime": {
     "end_time": "2019-10-02T11:37:38.912854Z",
     "start_time": "2019-10-02T11:37:38.904854Z"
    }
   },
   "outputs": [
    {
     "ename": "AssertionError",
     "evalue": "",
     "output_type": "error",
     "traceback": [
      "\u001b[1;31m---------------------------------------------------------------------------\u001b[0m",
      "\u001b[1;31mAssertionError\u001b[0m                            Traceback (most recent call last)",
      "\u001b[1;32m<ipython-input-104-2010c4c29777>\u001b[0m in \u001b[0;36m<module>\u001b[1;34m\u001b[0m\n\u001b[0;32m      2\u001b[0m     \u001b[1;32mreturn\u001b[0m \u001b[1;36m2\u001b[0m \u001b[1;33m*\u001b[0m \u001b[0mdividendo\u001b[0m \u001b[1;33m/\u001b[0m \u001b[0mdivisor\u001b[0m\u001b[1;33m\u001b[0m\u001b[1;33m\u001b[0m\u001b[0m\n\u001b[0;32m      3\u001b[0m \u001b[1;33m\u001b[0m\u001b[0m\n\u001b[1;32m----> 4\u001b[1;33m \u001b[1;32massert\u001b[0m \u001b[0mdivisao\u001b[0m\u001b[1;33m(\u001b[0m\u001b[1;36m10\u001b[0m\u001b[1;33m,\u001b[0m \u001b[1;36m2\u001b[0m\u001b[1;33m)\u001b[0m \u001b[1;33m==\u001b[0m \u001b[1;36m5\u001b[0m\u001b[1;33m\u001b[0m\u001b[1;33m\u001b[0m\u001b[0m\n\u001b[0m",
      "\u001b[1;31mAssertionError\u001b[0m: "
     ]
    }
   ],
   "source": [
    "def divisao(dividendo, divisor):\n",
    "    return 2 * dividendo / divisor\n",
    "\n",
    "assert divisao(10, 2) == 5    "
   ]
  },
  {
   "cell_type": "markdown",
   "metadata": {},
   "source": [
    "### Funções com multi argumentos"
   ]
  },
  {
   "cell_type": "code",
   "execution_count": 70,
   "metadata": {
    "ExecuteTime": {
     "end_time": "2019-10-02T11:37:39.308966Z",
     "start_time": "2019-10-02T11:37:39.303704Z"
    }
   },
   "outputs": [
    {
     "data": {
      "text/plain": [
       "[2, 2, 3]"
      ]
     },
     "execution_count": 70,
     "metadata": {},
     "output_type": "execute_result"
    }
   ],
   "source": [
    "def vogais_das_palavras(*palavras):\n",
    "    return [contador_de_vogais(palavra) for palavra in palavras]\n",
    "\n",
    "vogais_das_palavras(\"oi\", \"ola\", \"cachorro\")"
   ]
  },
  {
   "cell_type": "code",
   "execution_count": 71,
   "metadata": {
    "ExecuteTime": {
     "end_time": "2019-10-02T11:37:39.604200Z",
     "start_time": "2019-10-02T11:37:39.599165Z"
    }
   },
   "outputs": [
    {
     "name": "stdout",
     "output_type": "stream",
     "text": [
      "parametro_1 : 10\n",
      "paramtro_2 : True\n",
      "parametro_3 : auc\n"
     ]
    }
   ],
   "source": [
    "def imprimir(**kwargs):\n",
    "    for chave, valor in kwargs.items():\n",
    "        print(\"{} : {}\".format(chave, valor))\n",
    "        \n",
    "imprimir(parametro_1=10, paramtro_2=True, parametro_3=\"auc\")        "
   ]
  },
  {
   "cell_type": "code",
   "execution_count": 72,
   "metadata": {
    "ExecuteTime": {
     "end_time": "2019-10-02T11:37:39.853217Z",
     "start_time": "2019-10-02T11:37:39.849153Z"
    }
   },
   "outputs": [
    {
     "data": {
      "text/plain": [
       "10.0"
      ]
     },
     "execution_count": 72,
     "metadata": {},
     "output_type": "execute_result"
    }
   ],
   "source": [
    "# Usando um dicionário para passar argumentos\n",
    "divisao(**{\"dividendo\": 10, \"divisor\": 2})"
   ]
  },
  {
   "cell_type": "code",
   "execution_count": 73,
   "metadata": {
    "ExecuteTime": {
     "end_time": "2019-10-02T11:37:40.099726Z",
     "start_time": "2019-10-02T11:37:40.095576Z"
    }
   },
   "outputs": [
    {
     "name": "stdout",
     "output_type": "stream",
     "text": [
      "parametro_1 : 10\n",
      "parametro_2 : True\n",
      "parametro_3 : auc\n"
     ]
    }
   ],
   "source": [
    "imprimir(**{\"parametro_1\": 10, \"parametro_2\": True, \"parametro_3\": \"auc\"})"
   ]
  },
  {
   "cell_type": "markdown",
   "metadata": {},
   "source": [
    "Por convenção, usa-se `*args` e `**kwargs`"
   ]
  },
  {
   "cell_type": "markdown",
   "metadata": {},
   "source": [
    "### Tipagem"
   ]
  },
  {
   "cell_type": "code",
   "execution_count": 74,
   "metadata": {
    "ExecuteTime": {
     "end_time": "2019-10-02T11:37:41.006907Z",
     "start_time": "2019-10-02T11:37:41.002110Z"
    }
   },
   "outputs": [
    {
     "data": {
      "text/plain": [
       "2"
      ]
     },
     "execution_count": 74,
     "metadata": {},
     "output_type": "execute_result"
    }
   ],
   "source": [
    "def divisao(dividendo, divisor: int) -> int:\n",
    "    return int(dividendo / divisor)\n",
    "\n",
    "divisao(10, 5)"
   ]
  },
  {
   "cell_type": "code",
   "execution_count": 75,
   "metadata": {
    "ExecuteTime": {
     "end_time": "2019-10-02T11:37:41.313982Z",
     "start_time": "2019-10-02T11:37:41.309290Z"
    }
   },
   "outputs": [
    {
     "data": {
      "text/plain": [
       "2"
      ]
     },
     "execution_count": 75,
     "metadata": {},
     "output_type": "execute_result"
    }
   ],
   "source": [
    "divisao(10.5123, 5.123123)"
   ]
  },
  {
   "cell_type": "markdown",
   "metadata": {},
   "source": [
    "### Multi processamento"
   ]
  },
  {
   "cell_type": "code",
   "execution_count": 105,
   "metadata": {
    "ExecuteTime": {
     "end_time": "2019-10-02T11:37:42.122280Z",
     "start_time": "2019-10-02T11:37:41.938018Z"
    }
   },
   "outputs": [],
   "source": [
    "import numpy as np\n",
    "from joblib import Parallel, delayed\n",
    "from time import time"
   ]
  },
  {
   "cell_type": "code",
   "execution_count": 106,
   "metadata": {
    "ExecuteTime": {
     "end_time": "2019-10-02T11:37:42.223902Z",
     "start_time": "2019-10-02T11:37:42.198247Z"
    }
   },
   "outputs": [],
   "source": [
    "livros = livros * 1000000"
   ]
  },
  {
   "cell_type": "code",
   "execution_count": 107,
   "metadata": {
    "ExecuteTime": {
     "end_time": "2019-10-02T11:38:01.298688Z",
     "start_time": "2019-10-02T11:37:42.445835Z"
    },
    "hide_input": false
   },
   "outputs": [
    {
     "name": "stdout",
     "output_type": "stream",
     "text": [
      "Tempo de processamento: 6.453796863555908\n"
     ]
    }
   ],
   "source": [
    "start = time()\n",
    "resultado = [contador_de_vogais(livro) for livro in livros]\n",
    "print(\"Tempo de processamento: {}\".format(time() - start))"
   ]
  },
  {
   "cell_type": "code",
   "execution_count": 108,
   "metadata": {
    "ExecuteTime": {
     "end_time": "2019-10-02T11:38:01.306207Z",
     "start_time": "2019-10-02T11:38:01.301541Z"
    }
   },
   "outputs": [],
   "source": [
    "def contador_vogais_lista(lista_de_palavras):\n",
    "    return [contador_de_vogais(palavra) for palavra in lista_de_palavras]"
   ]
  },
  {
   "cell_type": "code",
   "execution_count": 109,
   "metadata": {
    "ExecuteTime": {
     "end_time": "2019-10-02T11:38:18.715185Z",
     "start_time": "2019-10-02T11:38:01.310363Z"
    }
   },
   "outputs": [
    {
     "name": "stdout",
     "output_type": "stream",
     "text": [
      "Tempo de processamento: 7.532021760940552\n"
     ]
    }
   ],
   "source": [
    "particoes = 16\n",
    "particoes_de_livros = np.array_split(livros, particoes)\n",
    "\n",
    "start = time()\n",
    "resultados = Parallel(n_jobs= -1)(delayed(contador_vogais_lista)(particao) for particao in particoes_de_livros)\n",
    "resultado = [contagem_palavra for particoes_de_contagem in resultados for contagem_palavra in particoes_de_contagem]\n",
    "print(\"Tempo de processamento: {}\".format(time() - start))"
   ]
  },
  {
   "cell_type": "markdown",
   "metadata": {},
   "source": [
    "**Exercício**:\n",
    "\n",
    "Reescreva a função de contar vogais e consoantes para rodar em multi processamento. **OBS**: multiplique o vetor de livros por 1 milhão para que faça alguma diferença!"
   ]
  }
 ],
 "metadata": {
  "kernelspec": {
   "display_name": "Python 3",
   "language": "python",
   "name": "python3"
  },
  "language_info": {
   "codemirror_mode": {
    "name": "ipython",
    "version": 3
   },
   "file_extension": ".py",
   "mimetype": "text/x-python",
   "name": "python",
   "nbconvert_exporter": "python",
   "pygments_lexer": "ipython3",
   "version": "3.7.7"
  },
  "toc": {
   "base_numbering": 1,
   "nav_menu": {},
   "number_sections": true,
   "sideBar": true,
   "skip_h1_title": true,
   "title_cell": "Índice",
   "title_sidebar": "Contents",
   "toc_cell": true,
   "toc_position": {},
   "toc_section_display": true,
   "toc_window_display": false
  }
 },
 "nbformat": 4,
 "nbformat_minor": 2
}

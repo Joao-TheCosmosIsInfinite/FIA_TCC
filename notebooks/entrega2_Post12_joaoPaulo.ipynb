{
 "cells": [
  {
   "cell_type": "markdown",
   "metadata": {},
   "source": [
    "<h1>Trabalho de Conclusão de Curso - IDESP</h1>\n",
    "<h2>Entrega - 2</h2>\n",
    "<p><b>Instituição:</b> FIA - Fundação Instituto de Administração</p>\n",
    "<p><b>Conteúdo:</b> <b>Entrega 02</b> - Business Case e Técnicas de Estatística Clássica</p>\n",
    "<p><b>Turma</b>: 12 </p>\n",
    "<p><b>Ano</b>: 2020</p>\n",
    "<p><b>Autor:</b> João Paulo Ribeiro dos Santos</p>\n",
    "<p><b>Localização Projeto: </b> <a href = 'https://github.com/Joao-TheCosmosIsInfinite/FIA_Projeto_Machine_Learning' target = \"_blank\">Git Hub</a></p>"
   ]
  },
  {
   "cell_type": "markdown",
   "metadata": {},
   "source": [
    "<h2>Indice/ Table of Contents</h2> "
   ]
  },
  {
   "cell_type": "markdown",
   "metadata": {},
   "source": [
    "[1. Importações das bibliotecas/ Library Imports](#head3_library)<br>\n",
    "[2. Importações dos Datasets/ Dataset Imports](#head3_datasets)<br>\n",
    "&nbsp;&nbsp;&nbsp;&nbsp;[2.1. Informações do IDESP/ IDESP Information](#head4_idesp)<br>\n",
    "&nbsp;&nbsp;&nbsp;&nbsp;[2.2. Informações das Escolas/ School Information](#head4_schoolinfo)<br>\n",
    "&nbsp;&nbsp;&nbsp;&nbsp;[2.3. Dependencias das Escolas/ School Facilities](#head4_facilities)<br>\n"
   ]
  },
  {
   "cell_type": "markdown",
   "metadata": {},
   "source": [
    "<a id ='head3_library'></a>\n",
    "<h3>1. Importações das bibliotecas/ Library Imports</h3>"
   ]
  },
  {
   "cell_type": "code",
   "execution_count": 1,
   "metadata": {},
   "outputs": [],
   "source": [
    "import numpy as np\n",
    "import pandas as pd\n",
    "import matplotlib.pyplot as plt\n",
    "import seaborn as sns\n",
    "\n",
    "%matplotlib inline"
   ]
  },
  {
   "cell_type": "code",
   "execution_count": 2,
   "metadata": {},
   "outputs": [],
   "source": [
    "## Definir numero maximo de linhas para visualizar\n",
    "pd.set_option('display.max_rows', 200)\n",
    "\n",
    "## Definir numero maximo de linhas para visualizar\n",
    "pd.set_option('display.max_columns', 50)"
   ]
  },
  {
   "cell_type": "markdown",
   "metadata": {},
   "source": [
    "<a id ='head3_datasets'></a>\n",
    "<h3>2. Importações dos Datasets/ Dataset Imports</h3>"
   ]
  },
  {
   "cell_type": "markdown",
   "metadata": {},
   "source": [
    "<a id ='head4_idesp'></a>\n",
    "<h4>2.1. Informações do IDESP/ IDESP Information</h4>"
   ]
  },
  {
   "cell_type": "code",
   "execution_count": 3,
   "metadata": {},
   "outputs": [],
   "source": [
    "## IDESP  no ano de 2019\n",
    "df_idesp_2019 = \\\n",
    "                pd.read_csv('data/IDESP/' \\\n",
    "                                'IDESP_ESCOLA_2019.csv')"
   ]
  },
  {
   "cell_type": "markdown",
   "metadata": {},
   "source": [
    "<a id ='head4_schoolinfo'></a>\n",
    "<h4>2.2. Informações das Escolas/ School Information</h4>"
   ]
  },
  {
   "cell_type": "code",
   "execution_count": 4,
   "metadata": {},
   "outputs": [],
   "source": [
    "## Dados Geográficos das Escolas\n",
    "df_school_geolocation = \\\n",
    "                        pd.read_csv('data/DADOS_ESCOLA/11_Escolas_Coordenadas.csv',\n",
    "                                    sep = ';',\n",
    "                                    decimal = ',',\n",
    "                                    encoding  = 'ISO-8859-1')"
   ]
  },
  {
   "cell_type": "markdown",
   "metadata": {},
   "source": [
    "<a id ='head4_facilities'></a>\n",
    "<h4>2.3. Dependencias das Escolas/ School Facilities</h4>"
   ]
  },
  {
   "cell_type": "code",
   "execution_count": 5,
   "metadata": {},
   "outputs": [],
   "source": [
    "## Dados da infraestrutura das escolas\n",
    "df_school_dependecy = \\\n",
    "                        pd.read_csv('data/INSTALACAO_FISICA_ESCOLA/06_Escolas_Dependencias.csv',\n",
    "                                    sep = ';')                                    "
   ]
  },
  {
   "cell_type": "markdown",
   "metadata": {},
   "source": [
    "<a id = 'head3_dictionary'></a>\n",
    "<h3>3. Dicionario das colunas dos dataframes/ Dictionary of dataframe's columns</h3>"
   ]
  },
  {
   "cell_type": "markdown",
   "metadata": {},
   "source": [
    "| Object | Field| Description |\n",
    "| :- | :- | :- |\n",
    "| <b>df_school_geolocation</b> | NOMEDEP | Qualitativa Nominal |\n",
    "| | DE | Qualitativa Nominal |\n",
    "| | MUN | Qualitativa Nominal |\n",
    "| | DISTR | Qualitativa Nominal |\n",
    "| | COD_ESC | Qualitativa Nominal |\n",
    "| | NOMESC | Qualitativa Nominal |\n",
    "| | SITUACAO | Qualitativa Nominal |\n",
    "| | TIPOESC | Qualitativa Nominal |\n",
    "| | ENDESC | Qualitativa Nominal |\n",
    "| | NUMESC | Quantitativa Discreta |\n",
    "| | COMPLEND | Qualitativa Nominal |\n",
    "| | CEP | Qualitativa Nominal |\n",
    "| | BAIESC | Qualitativa Nominal |\n",
    "| | ZONA | Qualitativa Nominal |\n",
    "| | DS_LONGITUDE | Quantitativa Continua |\n",
    "| | DS_LATITUDE | Quantitativa Continua |\n",
    "| | CODVINC | Quantitativa Discreta |"
   ]
  },
  {
   "cell_type": "markdown",
   "metadata": {},
   "source": [
    "<a id = 'head3_dataframe_info'></a>\n",
    "<h3>4. Informação dos dataframes/ Dataframe's Information</h3>"
   ]
  },
  {
   "cell_type": "markdown",
   "metadata": {},
   "source": [
    "<a id = 'head4_dataframe_dimension'></a>\n",
    "<h4>4.1. Dimensão dos dataframes/ Dataframe's dimension</h4>"
   ]
  },
  {
   "cell_type": "code",
   "execution_count": 6,
   "metadata": {},
   "outputs": [
    {
     "name": "stdout",
     "output_type": "stream",
     "text": [
      "Dimensão do dataframe \"df_school_dependecy\": (5608, 172)\n",
      "Dimensão do dataframe \"df_school_geolocation\": (5736, 17)\n",
      "Dimensão do dataframe \"df_idesp_2019\": (5047, 10)\n"
     ]
    }
   ],
   "source": [
    "## Dimensão do dataframe\n",
    "print('Dimensão do dataframe \"df_school_dependecy\":', \\\n",
    "                                                df_school_dependecy.shape)\n",
    "\n",
    "print('Dimensão do dataframe \"df_school_geolocation\":', \\\n",
    "                                                df_school_geolocation.shape)\n",
    "\n",
    "print('Dimensão do dataframe \"df_idesp_2019\":', \\\n",
    "                                                df_idesp_2019.shape)\n"
   ]
  },
  {
   "cell_type": "code",
   "execution_count": 7,
   "metadata": {},
   "outputs": [
    {
     "data": {
      "text/plain": [
       "NOMEDEP          object\n",
       "DE               object\n",
       "MUN              object\n",
       "DISTR            object\n",
       "COD_ESC           int64\n",
       "NOMESC           object\n",
       "SITUACAO         object\n",
       "TIPOESC          object\n",
       "ENDESC           object\n",
       "NUMESC           object\n",
       "COMPLEND         object\n",
       "CEP               int64\n",
       "BAIESC           object\n",
       "ZONA             object\n",
       "DS_LONGITUDE    float64\n",
       "DS_LATITUDE     float64\n",
       "CODVINC         float64\n",
       "dtype: object"
      ]
     },
     "execution_count": 7,
     "metadata": {},
     "output_type": "execute_result"
    }
   ],
   "source": [
    "## Schema do dataframe\n",
    "df_school_geolocation.dtypes"
   ]
  },
  {
   "cell_type": "code",
   "execution_count": 8,
   "metadata": {},
   "outputs": [
    {
     "data": {
      "text/plain": [
       "ANO_LETIVO           int64\n",
       "CODIGO_CIE           int64\n",
       "CODIGO_INEP          int64\n",
       "CodigoDiretoria      int64\n",
       "NomeDiretoria       object\n",
       "NomeEscola          object\n",
       "NomeMunicipio       object\n",
       "ANOS_INICIAIS      float64\n",
       "ANOS_FINAIS        float64\n",
       "ENSINO_MÉDIO       float64\n",
       "dtype: object"
      ]
     },
     "execution_count": 8,
     "metadata": {},
     "output_type": "execute_result"
    }
   ],
   "source": [
    "## Schema do dataframe\n",
    "df_idesp_2019.dtypes"
   ]
  },
  {
   "cell_type": "code",
   "execution_count": 9,
   "metadata": {},
   "outputs": [
    {
     "data": {
      "text/plain": [
       "NOMEDEP                         object\n",
       "DE                              object\n",
       "MUN                             object\n",
       "DISTR                           object\n",
       "CODESC                           int64\n",
       "NOMESC                          object\n",
       "TIPOESC                          int64\n",
       "TIPOESC_DESC                    object\n",
       "SITUACAO                        object\n",
       "SALAS_AULA                       int64\n",
       "SALAS_ED_INF                     int64\n",
       "SALAS_ED_ESP                     int64\n",
       "SALAS_ED_ART                     int64\n",
       "SALA_RECURSO                     int64\n",
       "TOT_SALAS_AULA                   int64\n",
       "AUDITORIO                        int64\n",
       "ANFITEATRO                       int64\n",
       "TEATRO                           int64\n",
       "CANTINA                          int64\n",
       "COPA                             int64\n",
       "COZINHA                          int64\n",
       "REFEITORIO                       int64\n",
       "DEPOSITO_ALIMENTOS               int64\n",
       "DESPENSA                         int64\n",
       "TOT_DESPENSA                     int64\n",
       "SALA_LEITURA                     int64\n",
       "BIBLIOTECA                       int64\n",
       "TOT_SALA_LEITURA                 int64\n",
       "QUADRA_COBERTA                   int64\n",
       "QUADRA_DESCOBERTA                int64\n",
       "GINASIO                          int64\n",
       "TOT_QUADRA                       int64\n",
       "QUADRA_AREIA                     int64\n",
       "QUADRA_GRAMA                     int64\n",
       "CAMPO_FUTEBOL                    int64\n",
       "GABINETE_DENTARIO                int64\n",
       "CONSULTORIO_MEDICO               int64\n",
       "ENFERMARIA                       int64\n",
       "AMBULATORIO                      int64\n",
       "ALMOXARIFADO                     int64\n",
       "ARQUIVO                          int64\n",
       "REPROGRAFIA                      int64\n",
       "SALA_GREMIO                      int64\n",
       "DIRETORIA                        int64\n",
       "VICEDIRETORIA                    int64\n",
       "SALA_PROF                        int64\n",
       "SECRETARIA                       int64\n",
       "SALA_ORIENT_ED                   int64\n",
       "SALA_COORD_PEDAG                 int64\n",
       "PATIO_COBERTO                    int64\n",
       "PATIO_DESCOBERTO                 int64\n",
       "ZELADORIA                        int64\n",
       "VESTIARIO_FEM                    int64\n",
       "VESTIARIO_MASC                   int64\n",
       "TOT_VESTIARIO                    int64\n",
       "VIDEOTECA                        int64\n",
       "SALA_TV                          int64\n",
       "LAB_INFO                         int64\n",
       "LAB_CIENCIAS                     int64\n",
       "LAB_FISICA                       int64\n",
       "LAB_QUIMICA                      int64\n",
       "LAB_BIOLOGIA                     int64\n",
       "LAB_CIENCIA_FISICA_BIOLOGICA     int64\n",
       "TOT_LAB_CIENCIA                  int64\n",
       "LAB_LINGUAS                      int64\n",
       "LAB_MULTIUSO                     int64\n",
       "OFICINA                          int64\n",
       "PLAYGROUND                       int64\n",
       "DORMITORIO                       int64\n",
       "BERCARIO                         int64\n",
       "SANITARIO_ADEQ_PRE               int64\n",
       "SANITARIO_ADEQ_PRE_FEM           int64\n",
       "SANITARIO_ADEQ_PRE_MASC          int64\n",
       "SANITARIO_ADEQ_DEF               int64\n",
       "SANITARIO_ADEQ_DEF_FEM           int64\n",
       "SANITARIO_ADEQ_DEF_MASC          int64\n",
       "SANITARIO_AL_MASC                int64\n",
       "SANITARIO_AL_FEM                 int64\n",
       "TOT_SANITARIO_AL                 int64\n",
       "SANITARIO_FUNC_FEM               int64\n",
       "SANITARIO_FUNC_MASC              int64\n",
       "TOT_SANITARIO_FUNC               int64\n",
       "DEPEND_ADEQ_DEF                  int64\n",
       "SALA_ED_FISICA                   int64\n",
       "PISCINA                          int64\n",
       "PORTARIA                         int64\n",
       "SALA_PROG_ESC_FAMILIA            int64\n",
       "BRINQUEDOTECA                    int64\n",
       "FRALDARIO                        int64\n",
       "LACTARIO                         int64\n",
       "LAVANDERIA                       int64\n",
       "SOLARIO                          int64\n",
       "SALA_ESPERA                      int64\n",
       "SALA_INSPETOR                    int64\n",
       "SALA_REUNIAO                     int64\n",
       "TESOURARIA                       int64\n",
       "SALA_REFORCO                     int64\n",
       "SALA_DIRETOR_TECNICO             int64\n",
       "GARAGEM_ONIBUS                   int64\n",
       "SALA_FISIOTERAPIA                int64\n",
       "SALA_PSICOLOGIA                  int64\n",
       "SALA_FONOAUDIOLOGIA              int64\n",
       "SALA_EVENTOS                     int64\n",
       "SALA_ASSIST_SOCIAL               int64\n",
       "SALA_TERAPIA_EDUC                int64\n",
       "ABATEDOURO                       int64\n",
       "ALOJAMENTO_FEM                   int64\n",
       "ALOJAMENTO_MASC                  int64\n",
       "TOT_ALOJAMENTO                   int64\n",
       "AREA_SERVICO                     int64\n",
       "BAZAR                            int64\n",
       "CASA_MAQUINA                     int64\n",
       "CASA_FUNC                        int64\n",
       "CHURRASQUEIRA                    int64\n",
       "DEPOSITOS_CEREAIS                int64\n",
       "ELEVADOR                         int64\n",
       "ESTACIONAMENTO                   int64\n",
       "ESTUFA                           int64\n",
       "GALPAO_AVES_CORTE                int64\n",
       "GALPAO_AVES_POSTURA              int64\n",
       "GALPAO_BOVINOS_LEITE             int64\n",
       "GALPAO_CUNICULTURA               int64\n",
       "GALPAO_MAQ_AGRICOLA              int64\n",
       "GALPAO_OVINOS_CAPRINOS           int64\n",
       "GALPAO_SUINO                     int64\n",
       "GRAFICA                          int64\n",
       "HORTA                            int64\n",
       "LAB_DIDATICA                     int64\n",
       "LAB_JUNIOR                       int64\n",
       "LAB_ENFERMAGEM                   int64\n",
       "LAB_ESTETICA                     int64\n",
       "LAB_PSICOPEDAGOGIA               int64\n",
       "LAB_TURISMO                      int64\n",
       "LAVATORIO                        int64\n",
       "MANGUEIRA                        int64\n",
       "MINHOCARIO                       int64\n",
       "PACKING_HOUSE                    int64\n",
       "POMAR                            int64\n",
       "PSICULTURA                       int64\n",
       "RECEPCAO                         int64\n",
       "SALA_ATENDIMENTO                 int64\n",
       "SALA_ATEND_PSICOLOGICO           int64\n",
       "SALA_AUX_COORDENACAO             int64\n",
       "SALA_DADOS                       int64\n",
       "SALA_DEP_PESSOAL                 int64\n",
       "SALA_ED_RELIGIOSA                int64\n",
       "SALA_ENERGIA_ELETRICA            int64\n",
       "SALA_ENTRETENIMENTO              int64\n",
       "SALA_ESTAGIO                     int64\n",
       "SALA_GINASTICA                   int64\n",
       "SALA_INSUMO_AGRICOLA             int64\n",
       "SALA_INSUMO_VETERINARIO          int64\n",
       "SALA_MARKETING                   int64\n",
       "SALA_MATRICULA                   int64\n",
       "SALA_MUSICA                      int64\n",
       "SALA_POS_GRADUACAO               int64\n",
       "SALA_ORDENHA                     int64\n",
       "SALA_PROC_PROD_AGROPECUARIOS     int64\n",
       "SALA_SEGURANCA                   int64\n",
       "SALA_TELEFONIA                   int64\n",
       "SALA_FINANCEIRO                  int64\n",
       "SALA_PASTORAL                    int64\n",
       "SALA_RESERV_AGUA                 int64\n",
       "SERVIDOR                         int64\n",
       "SILO                             int64\n",
       "VARANDA                          int64\n",
       "VIVEIRO                          int64\n",
       "SALA_REORG_NEURO                 int64\n",
       "SALA_TERAPIA_OCUP                int64\n",
       "SALA_SERIGRAFIA                  int64\n",
       "SALA_MARCENARIA                  int64\n",
       "QUIOSQUE                         int64\n",
       "dtype: object"
      ]
     },
     "execution_count": 9,
     "metadata": {},
     "output_type": "execute_result"
    }
   ],
   "source": [
    "## Schema do dataframe\n",
    "df_school_dependecy.dtypes"
   ]
  },
  {
   "cell_type": "markdown",
   "metadata": {},
   "source": [
    "<a id = 'head4_var_classification'></a>\n",
    "<h4>4.2. Classificação das variáveis/ Variables classification</h4>"
   ]
  },
  {
   "cell_type": "markdown",
   "metadata": {},
   "source": [
    "| Object | Field| Variable Classification |\n",
    "| :- | :- | :- |\n",
    "| <b>df_school_geolocation</b> | NOMEDEP | Qualitativa Nominal |\n",
    "| | DE | Qualitativa Nominal |\n",
    "| | MUN | Qualitativa Nominal |\n",
    "| | DISTR | Qualitativa Nominal |\n",
    "| | COD_ESC | Qualitativa Nominal |\n",
    "| | NOMESC | Qualitativa Nominal |\n",
    "| | SITUACAO | Qualitativa Nominal |\n",
    "| | TIPOESC | Qualitativa Nominal |\n",
    "| | ENDESC | Qualitativa Nominal |\n",
    "| | NUMESC | Quantitativa Discreta |\n",
    "| | COMPLEND | Qualitativa Nominal |\n",
    "| | CEP | Qualitativa Nominal |\n",
    "| | BAIESC | Qualitativa Nominal |\n",
    "| | ZONA | Qualitativa Nominal |\n",
    "| | DS_LONGITUDE | Quantitativa Continua |\n",
    "| | DS_LATITUDE | Quantitativa Continua |\n",
    "| | CODVINC | Quantitativa Discreta |"
   ]
  },
  {
   "cell_type": "markdown",
   "metadata": {},
   "source": [
    "<a id = 'head3_null_values'></a>\n",
    "<h3>5. Verificar valores nulos/ Identify nullable values</h3>"
   ]
  },
  {
   "cell_type": "markdown",
   "metadata": {},
   "source": [
    "<a id = 'head4_null_values_geolocation'></a>\n",
    "<h4>5.1. Identificar e tratar valores nulos 'df_school_geolocation'</h4>"
   ]
  },
  {
   "cell_type": "code",
   "execution_count": 10,
   "metadata": {},
   "outputs": [
    {
     "data": {
      "text/plain": [
       "NOMEDEP            0\n",
       "DE                 0\n",
       "MUN                0\n",
       "DISTR              0\n",
       "COD_ESC            0\n",
       "NOMESC             0\n",
       "SITUACAO           0\n",
       "TIPOESC            0\n",
       "ENDESC             5\n",
       "NUMESC             1\n",
       "COMPLEND         382\n",
       "CEP                0\n",
       "BAIESC             8\n",
       "ZONA               1\n",
       "DS_LONGITUDE       5\n",
       "DS_LATITUDE        5\n",
       "CODVINC         5137\n",
       "dtype: int64"
      ]
     },
     "execution_count": 10,
     "metadata": {},
     "output_type": "execute_result"
    }
   ],
   "source": [
    "## Quantidade de valores nulos por coluna\n",
    "df_school_geolocation.isnull().sum()"
   ]
  },
  {
   "cell_type": "code",
   "execution_count": 11,
   "metadata": {},
   "outputs": [
    {
     "data": {
      "text/plain": [
       "NOMEDEP          0.000000\n",
       "DE               0.000000\n",
       "MUN              0.000000\n",
       "DISTR            0.000000\n",
       "COD_ESC          0.000000\n",
       "NOMESC           0.000000\n",
       "SITUACAO         0.000000\n",
       "TIPOESC          0.000000\n",
       "ENDESC           0.087169\n",
       "NUMESC           0.017434\n",
       "COMPLEND         6.659693\n",
       "CEP              0.000000\n",
       "BAIESC           0.139470\n",
       "ZONA             0.017434\n",
       "DS_LONGITUDE     0.087169\n",
       "DS_LATITUDE      0.087169\n",
       "CODVINC         89.557183\n",
       "dtype: float64"
      ]
     },
     "execution_count": 11,
     "metadata": {},
     "output_type": "execute_result"
    }
   ],
   "source": [
    "## Porcentagem de valores nulos por coluna\n",
    "df_school_geolocation.isnull().sum() / len(df_school_geolocation) * 100"
   ]
  },
  {
   "cell_type": "markdown",
   "metadata": {},
   "source": [
    "<p>As colunas <b>'ENDESC', 'COMPLEND', 'BAIESC', 'ZONA'</b> correspondem dados que algumas escolas ou mesmo residencias não possuem, ou não foi informado no cadastro, para todas essas colunas que possuem valores nulos, atribuíremos a frase <b>'NAO INFORMADO'</b></p>\n",
    "<p>A coluna <b>'NUMESC'</b> se refere ao numero da escola, como apenas 1 escola dentre as milhares existentes não possui numero, então atribuiremos o valor ja existente <b>'S/N'</b>.</p>"
   ]
  },
  {
   "cell_type": "code",
   "execution_count": 12,
   "metadata": {},
   "outputs": [],
   "source": [
    "## Lista com as colunas\n",
    "lst_columns = ['ENDESC', 'COMPLEND', 'BAIESC', 'ZONA']\n",
    "\n",
    "## Aplicar o valor NAO INFORMADO para as linhas com valores nulos\n",
    "df_school_geolocation.fillna({'ENDESC': 'NAO INFORMADO',\n",
    "                              'COMPLEND': 'NAO INFORMADO',\n",
    "                              'BAIESC': 'NAO INFORMADO',\n",
    "                              'ZONA': 'NAO INFORMADO',\n",
    "                              'NUMESC': 'SN'}, inplace = True)"
   ]
  },
  {
   "cell_type": "code",
   "execution_count": 13,
   "metadata": {},
   "outputs": [
    {
     "data": {
      "text/html": [
       "<div>\n",
       "<style scoped>\n",
       "    .dataframe tbody tr th:only-of-type {\n",
       "        vertical-align: middle;\n",
       "    }\n",
       "\n",
       "    .dataframe tbody tr th {\n",
       "        vertical-align: top;\n",
       "    }\n",
       "\n",
       "    .dataframe thead th {\n",
       "        text-align: right;\n",
       "    }\n",
       "</style>\n",
       "<table border=\"1\" class=\"dataframe\">\n",
       "  <thead>\n",
       "    <tr style=\"text-align: right;\">\n",
       "      <th></th>\n",
       "      <th>NOMEDEP</th>\n",
       "      <th>DE</th>\n",
       "      <th>MUN</th>\n",
       "      <th>DISTR</th>\n",
       "      <th>COD_ESC</th>\n",
       "      <th>NOMESC</th>\n",
       "      <th>SITUACAO</th>\n",
       "      <th>TIPOESC</th>\n",
       "      <th>ENDESC</th>\n",
       "      <th>NUMESC</th>\n",
       "      <th>COMPLEND</th>\n",
       "      <th>CEP</th>\n",
       "      <th>BAIESC</th>\n",
       "      <th>ZONA</th>\n",
       "      <th>DS_LONGITUDE</th>\n",
       "      <th>DS_LATITUDE</th>\n",
       "      <th>CODVINC</th>\n",
       "    </tr>\n",
       "  </thead>\n",
       "  <tbody>\n",
       "    <tr>\n",
       "      <th>0</th>\n",
       "      <td>ESTADUAL - SE</td>\n",
       "      <td>NORTE 1</td>\n",
       "      <td>SAO PAULO</td>\n",
       "      <td>JAGUARA</td>\n",
       "      <td>12</td>\n",
       "      <td>AYRES DE MOURA PROFESSOR</td>\n",
       "      <td>Ativa</td>\n",
       "      <td>EE</td>\n",
       "      <td>RUA ARTUR ORLANDO</td>\n",
       "      <td>907</td>\n",
       "      <td>RUA</td>\n",
       "      <td>5118000</td>\n",
       "      <td>VILA JAGUARA</td>\n",
       "      <td>URBANA</td>\n",
       "      <td>-46.749100</td>\n",
       "      <td>-23.512199</td>\n",
       "      <td>NaN</td>\n",
       "    </tr>\n",
       "    <tr>\n",
       "      <th>1</th>\n",
       "      <td>ESTADUAL - SE</td>\n",
       "      <td>NORTE 1</td>\n",
       "      <td>SAO PAULO</td>\n",
       "      <td>PERUS</td>\n",
       "      <td>24</td>\n",
       "      <td>GAVIAO PEIXOTO BRIGADEIRO</td>\n",
       "      <td>Ativa</td>\n",
       "      <td>EE</td>\n",
       "      <td>MOGEIRO</td>\n",
       "      <td>710</td>\n",
       "      <td>RUA</td>\n",
       "      <td>5208230</td>\n",
       "      <td>VILA PERUS</td>\n",
       "      <td>URBANA</td>\n",
       "      <td>-46.759399</td>\n",
       "      <td>-23.404699</td>\n",
       "      <td>NaN</td>\n",
       "    </tr>\n",
       "    <tr>\n",
       "      <th>2</th>\n",
       "      <td>ESTADUAL - SE</td>\n",
       "      <td>NORTE 1</td>\n",
       "      <td>SAO PAULO</td>\n",
       "      <td>FREGUESIA DO O</td>\n",
       "      <td>36</td>\n",
       "      <td>JOAO SOLIMEO</td>\n",
       "      <td>Ativa</td>\n",
       "      <td>EE</td>\n",
       "      <td>DO SABAO</td>\n",
       "      <td>1497</td>\n",
       "      <td>ESTRADA</td>\n",
       "      <td>2806000</td>\n",
       "      <td>JARDIM MARISTELA</td>\n",
       "      <td>URBANA</td>\n",
       "      <td>-46.700821</td>\n",
       "      <td>-23.481279</td>\n",
       "      <td>NaN</td>\n",
       "    </tr>\n",
       "    <tr>\n",
       "      <th>3</th>\n",
       "      <td>ESTADUAL - SE</td>\n",
       "      <td>NORTE 1</td>\n",
       "      <td>SAO PAULO</td>\n",
       "      <td>BRASILANDIA</td>\n",
       "      <td>48</td>\n",
       "      <td>WALFREDO ARANTES CALDAS PROFESSOR</td>\n",
       "      <td>Ativa</td>\n",
       "      <td>EE</td>\n",
       "      <td>DEPUTADO CANTIDIO SAMPAIO</td>\n",
       "      <td>1701</td>\n",
       "      <td>NAO INFORMADO</td>\n",
       "      <td>2860001</td>\n",
       "      <td>VILA SOUZA</td>\n",
       "      <td>URBANA</td>\n",
       "      <td>-46.679531</td>\n",
       "      <td>-23.464180</td>\n",
       "      <td>NaN</td>\n",
       "    </tr>\n",
       "    <tr>\n",
       "      <th>4</th>\n",
       "      <td>ESTADUAL - SE</td>\n",
       "      <td>NORTE 1</td>\n",
       "      <td>SAO PAULO</td>\n",
       "      <td>ANHANGUERA</td>\n",
       "      <td>59</td>\n",
       "      <td>SEBASTIAO DE OLIVEIRA GUSMAO PROFESSOR</td>\n",
       "      <td>Ativa</td>\n",
       "      <td>EE</td>\n",
       "      <td>RUA FRANCISCO GIRON</td>\n",
       "      <td>SN</td>\n",
       "      <td>ESTRADA</td>\n",
       "      <td>5267000</td>\n",
       "      <td>MORRO DOCE</td>\n",
       "      <td>URBANA</td>\n",
       "      <td>-46.792249</td>\n",
       "      <td>-23.437950</td>\n",
       "      <td>NaN</td>\n",
       "    </tr>\n",
       "  </tbody>\n",
       "</table>\n",
       "</div>"
      ],
      "text/plain": [
       "         NOMEDEP       DE        MUN           DISTR  COD_ESC  \\\n",
       "0  ESTADUAL - SE  NORTE 1  SAO PAULO         JAGUARA       12   \n",
       "1  ESTADUAL - SE  NORTE 1  SAO PAULO           PERUS       24   \n",
       "2  ESTADUAL - SE  NORTE 1  SAO PAULO  FREGUESIA DO O       36   \n",
       "3  ESTADUAL - SE  NORTE 1  SAO PAULO     BRASILANDIA       48   \n",
       "4  ESTADUAL - SE  NORTE 1  SAO PAULO      ANHANGUERA       59   \n",
       "\n",
       "                                   NOMESC SITUACAO TIPOESC  \\\n",
       "0                AYRES DE MOURA PROFESSOR    Ativa      EE   \n",
       "1               GAVIAO PEIXOTO BRIGADEIRO    Ativa      EE   \n",
       "2                            JOAO SOLIMEO    Ativa      EE   \n",
       "3       WALFREDO ARANTES CALDAS PROFESSOR    Ativa      EE   \n",
       "4  SEBASTIAO DE OLIVEIRA GUSMAO PROFESSOR    Ativa      EE   \n",
       "\n",
       "                      ENDESC NUMESC       COMPLEND      CEP            BAIESC  \\\n",
       "0          RUA ARTUR ORLANDO    907            RUA  5118000      VILA JAGUARA   \n",
       "1                    MOGEIRO    710            RUA  5208230        VILA PERUS   \n",
       "2                   DO SABAO   1497        ESTRADA  2806000  JARDIM MARISTELA   \n",
       "3  DEPUTADO CANTIDIO SAMPAIO   1701  NAO INFORMADO  2860001        VILA SOUZA   \n",
       "4        RUA FRANCISCO GIRON     SN        ESTRADA  5267000        MORRO DOCE   \n",
       "\n",
       "     ZONA  DS_LONGITUDE  DS_LATITUDE  CODVINC  \n",
       "0  URBANA    -46.749100   -23.512199      NaN  \n",
       "1  URBANA    -46.759399   -23.404699      NaN  \n",
       "2  URBANA    -46.700821   -23.481279      NaN  \n",
       "3  URBANA    -46.679531   -23.464180      NaN  \n",
       "4  URBANA    -46.792249   -23.437950      NaN  "
      ]
     },
     "execution_count": 13,
     "metadata": {},
     "output_type": "execute_result"
    }
   ],
   "source": [
    "## Quantidade de valores nulos por coluna\n",
    "df_school_geolocation.head(5)"
   ]
  },
  {
   "cell_type": "markdown",
   "metadata": {},
   "source": [
    "<p>A coluna <b>'CODVINC'/ Codigo MEC</b> corresponde a escola vinculadora, que esta associado a escolas muito pequenas, com no máximo 3 salas de aula, por esse motivo essa escola fica vinculada a uma escola maior, logo podemos dizer que aproximadamente 11% das escolas são muito pequenas. Diante disso aplicaremos o valor ZERO as escolas sem vinculadora, e criaremos uma coluna extra indicando que a escola possui vinculadora.</p>\n",
    "<p>Link Referencia: http://www.dominiopublico.gov.br/download/texto/me002123.pdf</p>"
   ]
  },
  {
   "cell_type": "code",
   "execution_count": 14,
   "metadata": {},
   "outputs": [],
   "source": [
    "## Criar coluna indicando se a escola possui vinculadora\n",
    "df_school_geolocation['POSSUI_VINCULADORA'] = np.where(df_school_geolocation['CODVINC'].isnull(), 0, 1)\n",
    "\n",
    "## Substituir os valores nulos por zero\n",
    "df_school_geolocation['CODVINC'].fillna(0, inplace = True)"
   ]
  },
  {
   "cell_type": "markdown",
   "metadata": {},
   "source": [
    "<p>As proximas colunas com valores nulos correspondem as coordenadas geográficas, possivelmente tais coordenadas não foram incluidas no cadastro. Iremos verificar quais são essas escolas</p>"
   ]
  },
  {
   "cell_type": "code",
   "execution_count": 15,
   "metadata": {},
   "outputs": [
    {
     "data": {
      "text/html": [
       "<div>\n",
       "<style scoped>\n",
       "    .dataframe tbody tr th:only-of-type {\n",
       "        vertical-align: middle;\n",
       "    }\n",
       "\n",
       "    .dataframe tbody tr th {\n",
       "        vertical-align: top;\n",
       "    }\n",
       "\n",
       "    .dataframe thead th {\n",
       "        text-align: right;\n",
       "    }\n",
       "</style>\n",
       "<table border=\"1\" class=\"dataframe\">\n",
       "  <thead>\n",
       "    <tr style=\"text-align: right;\">\n",
       "      <th></th>\n",
       "      <th>NOMEDEP</th>\n",
       "      <th>DE</th>\n",
       "      <th>MUN</th>\n",
       "      <th>DISTR</th>\n",
       "      <th>COD_ESC</th>\n",
       "      <th>NOMESC</th>\n",
       "      <th>SITUACAO</th>\n",
       "      <th>TIPOESC</th>\n",
       "      <th>ENDESC</th>\n",
       "      <th>NUMESC</th>\n",
       "      <th>COMPLEND</th>\n",
       "      <th>CEP</th>\n",
       "      <th>BAIESC</th>\n",
       "      <th>ZONA</th>\n",
       "      <th>DS_LONGITUDE</th>\n",
       "      <th>DS_LATITUDE</th>\n",
       "      <th>CODVINC</th>\n",
       "      <th>POSSUI_VINCULADORA</th>\n",
       "    </tr>\n",
       "  </thead>\n",
       "  <tbody>\n",
       "    <tr>\n",
       "      <th>4079</th>\n",
       "      <td>ESTADUAL - SE</td>\n",
       "      <td>CAMPINAS LESTE</td>\n",
       "      <td>CAMPINAS</td>\n",
       "      <td>CAMPINAS LESTE</td>\n",
       "      <td>478830</td>\n",
       "      <td>CENTRO ATEND SOCIOED AO ADOLESC CAMPINAS UN II CI</td>\n",
       "      <td>Ativa</td>\n",
       "      <td>FEBEM - UI (CASA À PARTIR DE 2007)</td>\n",
       "      <td>ALADINO SELMI COMENDADOR</td>\n",
       "      <td>SN</td>\n",
       "      <td>AVENIDA</td>\n",
       "      <td>13069096</td>\n",
       "      <td>VILA SAN MARTIN</td>\n",
       "      <td>URBANA</td>\n",
       "      <td>NaN</td>\n",
       "      <td>NaN</td>\n",
       "      <td>65626.0</td>\n",
       "      <td>1</td>\n",
       "    </tr>\n",
       "    <tr>\n",
       "      <th>4138</th>\n",
       "      <td>ESTADUAL - SE</td>\n",
       "      <td>CAMPINAS LESTE</td>\n",
       "      <td>CAMPINAS</td>\n",
       "      <td>CAMPINAS LESTE</td>\n",
       "      <td>498671</td>\n",
       "      <td>CENTRO DE ATEND SOCIOEDUC AO ADOLESCENTE ANDOR...</td>\n",
       "      <td>Ativa</td>\n",
       "      <td>FEBEM - UIP (CASA À PARTIR DE 2007)</td>\n",
       "      <td>ALADINO SELMI COMENDADOR</td>\n",
       "      <td>SN</td>\n",
       "      <td>AVENIDA</td>\n",
       "      <td>13069096</td>\n",
       "      <td>VILA SAN MARTIN</td>\n",
       "      <td>URBANA</td>\n",
       "      <td>NaN</td>\n",
       "      <td>NaN</td>\n",
       "      <td>65626.0</td>\n",
       "      <td>1</td>\n",
       "    </tr>\n",
       "    <tr>\n",
       "      <th>4226</th>\n",
       "      <td>ESTADUAL - SE</td>\n",
       "      <td>CAMPINAS LESTE</td>\n",
       "      <td>CAMPINAS</td>\n",
       "      <td>CAMPINAS LESTE</td>\n",
       "      <td>563948</td>\n",
       "      <td>CENTRO DE ATEND SOCIOEDUC AO ADOLESCENTE ANDOR...</td>\n",
       "      <td>Ativa</td>\n",
       "      <td>FEBEM - UI (CASA À PARTIR DE 2007)</td>\n",
       "      <td>ALADINO SELMI COMENDADOR</td>\n",
       "      <td>1</td>\n",
       "      <td>AVENIDA</td>\n",
       "      <td>13069096</td>\n",
       "      <td>VILA SAN MARTIN</td>\n",
       "      <td>URBANA</td>\n",
       "      <td>NaN</td>\n",
       "      <td>NaN</td>\n",
       "      <td>65626.0</td>\n",
       "      <td>1</td>\n",
       "    </tr>\n",
       "    <tr>\n",
       "      <th>4271</th>\n",
       "      <td>ESTADUAL - SE</td>\n",
       "      <td>CENTRO OESTE</td>\n",
       "      <td>SAO PAULO</td>\n",
       "      <td>VILA SONIA</td>\n",
       "      <td>577212</td>\n",
       "      <td>HOSPITAL ALBERT EINSTEIN CL HOSPITALAR</td>\n",
       "      <td>Ativa</td>\n",
       "      <td>CLASSE HOSPITALAR</td>\n",
       "      <td>LOURENCO DE AZEVEDO</td>\n",
       "      <td>149</td>\n",
       "      <td>RUA</td>\n",
       "      <td>5624060</td>\n",
       "      <td>VILA MORSE</td>\n",
       "      <td>URBANA</td>\n",
       "      <td>NaN</td>\n",
       "      <td>NaN</td>\n",
       "      <td>4259.0</td>\n",
       "      <td>1</td>\n",
       "    </tr>\n",
       "    <tr>\n",
       "      <th>4296</th>\n",
       "      <td>ESTADUAL - SE</td>\n",
       "      <td>BARRETOS</td>\n",
       "      <td>BARRETOS</td>\n",
       "      <td>BARRETOS</td>\n",
       "      <td>584459</td>\n",
       "      <td>CLASSE HOSPITALAR FUNDACAO PIO XII HOSPITAL DO...</td>\n",
       "      <td>Ativa</td>\n",
       "      <td>CLASSE HOSPITALAR</td>\n",
       "      <td>ANTENOR DUARTE VILELA</td>\n",
       "      <td>1331</td>\n",
       "      <td>RUA</td>\n",
       "      <td>14784400</td>\n",
       "      <td>DOUTOR PAULO PRATA</td>\n",
       "      <td>URBANA</td>\n",
       "      <td>NaN</td>\n",
       "      <td>NaN</td>\n",
       "      <td>22214.0</td>\n",
       "      <td>1</td>\n",
       "    </tr>\n",
       "  </tbody>\n",
       "</table>\n",
       "</div>"
      ],
      "text/plain": [
       "            NOMEDEP              DE        MUN           DISTR  COD_ESC  \\\n",
       "4079  ESTADUAL - SE  CAMPINAS LESTE   CAMPINAS  CAMPINAS LESTE   478830   \n",
       "4138  ESTADUAL - SE  CAMPINAS LESTE   CAMPINAS  CAMPINAS LESTE   498671   \n",
       "4226  ESTADUAL - SE  CAMPINAS LESTE   CAMPINAS  CAMPINAS LESTE   563948   \n",
       "4271  ESTADUAL - SE    CENTRO OESTE  SAO PAULO      VILA SONIA   577212   \n",
       "4296  ESTADUAL - SE        BARRETOS   BARRETOS        BARRETOS   584459   \n",
       "\n",
       "                                                 NOMESC SITUACAO  \\\n",
       "4079  CENTRO ATEND SOCIOED AO ADOLESC CAMPINAS UN II CI    Ativa   \n",
       "4138  CENTRO DE ATEND SOCIOEDUC AO ADOLESCENTE ANDOR...    Ativa   \n",
       "4226  CENTRO DE ATEND SOCIOEDUC AO ADOLESCENTE ANDOR...    Ativa   \n",
       "4271             HOSPITAL ALBERT EINSTEIN CL HOSPITALAR    Ativa   \n",
       "4296  CLASSE HOSPITALAR FUNDACAO PIO XII HOSPITAL DO...    Ativa   \n",
       "\n",
       "                                  TIPOESC                    ENDESC NUMESC  \\\n",
       "4079   FEBEM - UI (CASA À PARTIR DE 2007)  ALADINO SELMI COMENDADOR     SN   \n",
       "4138  FEBEM - UIP (CASA À PARTIR DE 2007)  ALADINO SELMI COMENDADOR     SN   \n",
       "4226   FEBEM - UI (CASA À PARTIR DE 2007)  ALADINO SELMI COMENDADOR      1   \n",
       "4271                    CLASSE HOSPITALAR       LOURENCO DE AZEVEDO    149   \n",
       "4296                    CLASSE HOSPITALAR     ANTENOR DUARTE VILELA   1331   \n",
       "\n",
       "     COMPLEND       CEP              BAIESC    ZONA  DS_LONGITUDE  \\\n",
       "4079  AVENIDA  13069096     VILA SAN MARTIN  URBANA           NaN   \n",
       "4138  AVENIDA  13069096     VILA SAN MARTIN  URBANA           NaN   \n",
       "4226  AVENIDA  13069096     VILA SAN MARTIN  URBANA           NaN   \n",
       "4271      RUA   5624060          VILA MORSE  URBANA           NaN   \n",
       "4296      RUA  14784400  DOUTOR PAULO PRATA  URBANA           NaN   \n",
       "\n",
       "      DS_LATITUDE  CODVINC  POSSUI_VINCULADORA  \n",
       "4079          NaN  65626.0                   1  \n",
       "4138          NaN  65626.0                   1  \n",
       "4226          NaN  65626.0                   1  \n",
       "4271          NaN   4259.0                   1  \n",
       "4296          NaN  22214.0                   1  "
      ]
     },
     "execution_count": 15,
     "metadata": {},
     "output_type": "execute_result"
    }
   ],
   "source": [
    "df_school_geolocation[df_school_geolocation['DS_LONGITUDE'].isnull()]"
   ]
  },
  {
   "cell_type": "markdown",
   "metadata": {},
   "source": [
    "<p>As escolas sem coordenadas geográficas possuem escola vinculadora, logo aplicaremos as coordenadas de suas escolas vinculadoras.</p>"
   ]
  },
  {
   "cell_type": "code",
   "execution_count": 16,
   "metadata": {},
   "outputs": [],
   "source": [
    "## Latitude e longitude das escolas vinculadas\n",
    "df_vinculated_school = df_school_geolocation[df_school_geolocation['COD_ESC'].isin([4259, 22214, 65626])] \\\n",
    "                                                    .loc[:, ['COD_ESC', 'DS_LONGITUDE', 'DS_LATITUDE']]\n",
    "## Realizando o Join com o dataframe novo\n",
    "df_school_geolocation = df_school_geolocation.merge(df_vinculated_school, \n",
    "                                                    left_on = 'CODVINC', \n",
    "                                                    right_on = 'COD_ESC', \n",
    "                                                    suffixes=('_left', '_right'),\n",
    "                                                    how = 'left')\n",
    "## Atualizar os dados\n",
    "df_school_geolocation['DS_LONGITUDE_left'] = np.where(df_school_geolocation['DS_LONGITUDE_left'].isnull(),\n",
    "                                                      df_school_geolocation['DS_LONGITUDE_right'],\n",
    "                                                      df_school_geolocation['DS_LONGITUDE_left'])\n",
    "\n",
    "df_school_geolocation['DS_LATITUDE_left'] = np.where(df_school_geolocation['DS_LATITUDE_left'].isnull(),\n",
    "                                                      df_school_geolocation['DS_LATITUDE_right'],\n",
    "                                                      df_school_geolocation['DS_LATITUDE_left'])\n",
    "## Renomear colunas\n",
    "df_school_geolocation.rename(columns = {\"COD_ESC_left\" : \"COD_ESC\",\n",
    "                                        \"DS_LONGITUDE_left\" : \"DS_LONGITUDE\",\n",
    "                                        \"DS_LATITUDE_left\" : \"DS_LATITUDE\"},\n",
    "                             inplace = True)\n",
    "\n",
    "## Dropar/ Deletar colunas desnecessarias\n",
    "df_school_geolocation.drop(columns = ['COD_ESC_right', 'DS_LONGITUDE_right', 'DS_LATITUDE_right'],\n",
    "                           inplace = True)\n",
    "\n",
    "## Deletar datarframe que não sera mais utilizado\n",
    "del df_vinculated_school"
   ]
  },
  {
   "cell_type": "code",
   "execution_count": 17,
   "metadata": {},
   "outputs": [
    {
     "data": {
      "text/plain": [
       "NOMEDEP               0\n",
       "DE                    0\n",
       "MUN                   0\n",
       "DISTR                 0\n",
       "COD_ESC               0\n",
       "NOMESC                0\n",
       "SITUACAO              0\n",
       "TIPOESC               0\n",
       "ENDESC                0\n",
       "NUMESC                0\n",
       "COMPLEND              0\n",
       "CEP                   0\n",
       "BAIESC                0\n",
       "ZONA                  0\n",
       "DS_LONGITUDE          0\n",
       "DS_LATITUDE           0\n",
       "CODVINC               0\n",
       "POSSUI_VINCULADORA    0\n",
       "dtype: int64"
      ]
     },
     "execution_count": 17,
     "metadata": {},
     "output_type": "execute_result"
    }
   ],
   "source": [
    "## Verificar se ainda existem valores nulos\n",
    "df_school_geolocation.isnull().sum()"
   ]
  },
  {
   "cell_type": "markdown",
   "metadata": {},
   "source": [
    "<a id = 'head4_null_values_idesp_2019'></a>\n",
    "<h4>5.2. Identificar e tratar valores nulos 'df_idesp_2019'</h4>"
   ]
  },
  {
   "cell_type": "code",
   "execution_count": 18,
   "metadata": {},
   "outputs": [
    {
     "data": {
      "text/plain": [
       "ANO_LETIVO         0\n",
       "CODIGO_CIE         0\n",
       "CODIGO_INEP        0\n",
       "CodigoDiretoria    0\n",
       "NomeDiretoria      0\n",
       "NomeEscola         0\n",
       "NomeMunicipio      0\n",
       "ANOS_INICIAIS      0\n",
       "ANOS_FINAIS        0\n",
       "ENSINO_MÉDIO       0\n",
       "dtype: int64"
      ]
     },
     "execution_count": 18,
     "metadata": {},
     "output_type": "execute_result"
    }
   ],
   "source": [
    "## Quantidade de valores nulos\n",
    "df_idesp_2019.isnull().sum()"
   ]
  },
  {
   "cell_type": "code",
   "execution_count": 19,
   "metadata": {},
   "outputs": [
    {
     "data": {
      "text/plain": [
       "ANO_LETIVO         0.0\n",
       "CODIGO_CIE         0.0\n",
       "CODIGO_INEP        0.0\n",
       "CodigoDiretoria    0.0\n",
       "NomeDiretoria      0.0\n",
       "NomeEscola         0.0\n",
       "NomeMunicipio      0.0\n",
       "ANOS_INICIAIS      0.0\n",
       "ANOS_FINAIS        0.0\n",
       "ENSINO_MÉDIO       0.0\n",
       "dtype: float64"
      ]
     },
     "execution_count": 19,
     "metadata": {},
     "output_type": "execute_result"
    }
   ],
   "source": [
    "## Verificar a porncentagem de valores nulos\n",
    "df_idesp_2019.isnull().sum() / len(df_idesp_2019) * 100"
   ]
  },
  {
   "cell_type": "markdown",
   "metadata": {},
   "source": [
    "<a id = 'head4_null_values_dependency'></a>\n",
    "<h4>5.2. Identificar e tratar valores nulos 'df_school_dependecy'</h4>\n",
    "<p>Como o dataframe possui mais de 150 colunas, iremos verificar se existe alguma coluna com valor nulo.</p>"
   ]
  },
  {
   "cell_type": "code",
   "execution_count": 20,
   "metadata": {},
   "outputs": [
    {
     "data": {
      "text/plain": [
       "False"
      ]
     },
     "execution_count": 20,
     "metadata": {},
     "output_type": "execute_result"
    }
   ],
   "source": [
    "## Verificar se há alguma coluna com valor nulo\n",
    "df_school_dependecy.isnull().any().any()"
   ]
  },
  {
   "cell_type": "markdown",
   "metadata": {},
   "source": [
    "<a id = 'head3_check_outliers'></a>\n",
    "<h3>6. Verificando e tratando outliers/ Checking and treating outliers</h3>"
   ]
  },
  {
   "cell_type": "markdown",
   "metadata": {},
   "source": [
    "<a id = 'head4_outlier_school_geolocation'></a>\n",
    "<h4>6.1. Identificar e tratar outliers 'df_school_geolocation'</h4>"
   ]
  },
  {
   "cell_type": "code",
   "execution_count": 21,
   "metadata": {},
   "outputs": [
    {
     "data": {
      "image/png": "[encoded data removed]",
      "text/plain": [
       "<Figure size 1080x720 with 1 Axes>"
      ]
     },
     "metadata": {
      "needs_background": "light"
     },
     "output_type": "display_data"
    }
   ],
   "source": [
    "## Tamanho da figura\n",
    "plt.figure(figsize = (15,10))\n",
    "\n",
    "## Paleta de cores\n",
    "sns_my_palete_01 = sns.color_palette('Set1', \n",
    "                                     n_colors = 8,\n",
    "                                     desat = 0.5)\n",
    "\n",
    "## Criação do objeto referente a plotagem\n",
    "ax = sns.boxplot(data = df_school_geolocation,\n",
    "                 palette = sns_my_palete_01 )\n",
    "\n",
    "## Exibir gráfico\n",
    "plt.show()"
   ]
  },
  {
   "cell_type": "markdown",
   "metadata": {},
   "source": [
    "<p>\n",
    "    Com exceção do codigo da escola, todos os demais campos apresentaram outliers, mas dado as caracteristicas desses campos, podemos ignorar essa informação. A seguir esta pontuada uma explicação sobre esses outliers:\n",
    "    <ol>\n",
    "        <li><b>CEP</b>: A informação do CEP atua de forma categórica, afinal todo endereço possui um CEP associado;</li>\n",
    "        <li><b>DS_LONGITUDE e DS_LATITUDE</b>: São coordenadas geográficas, portanto não há muito o que fazer com tal informação, ja que isso possui caracteristicas cadastrais, o que podemos fazer posteriormente é validar essas coordenadas usando a biblioteca Folium;</li>\n",
    "        <li><b>CODVINC</b>: Refere-se basicamente ao codigo de outra escola no qual esta associada, não apresenta muita informação com isso;</li>\n",
    "        <li><b>POSSUI_VINCULADORA</b>: Classe binária que apenas indica se a escola possui uma vinculadora ou não;</li>\n",
    "    </ol>\n",
    "</p>"
   ]
  },
  {
   "cell_type": "markdown",
   "metadata": {},
   "source": [
    "<a id = 'head4_outlier_idesp_2019'></a>\n",
    "<h4>6.2. Identificar e tratar outliers 'df_idesp_2019'</h4>"
   ]
  },
  {
   "cell_type": "code",
   "execution_count": 22,
   "metadata": {},
   "outputs": [
    {
     "data": {
      "image/png": "[encoded data removed]",
      "text/plain": [
       "<Figure size 1080x720 with 1 Axes>"
      ]
     },
     "metadata": {
      "needs_background": "light"
     },
     "output_type": "display_data"
    }
   ],
   "source": [
    "## Tamanho da figura\n",
    "plt.figure(figsize = (15,10))\n",
    "\n",
    "## Paleta de cores\n",
    "sns_my_palete_01 = sns.color_palette('Set1', \n",
    "                                     n_colors = 8,\n",
    "                                     desat = 0.5)\n",
    "\n",
    "## Criação do objeto referente a plotagem\n",
    "ax = sns.boxplot(data = df_idesp_2019,\n",
    "                 palette = sns_my_palete_01 )\n",
    "\n",
    "## Exibir gráfico\n",
    "plt.show()"
   ]
  },
  {
   "cell_type": "markdown",
   "metadata": {},
   "source": [
    "<p>Não foram identificados outliers, mesmo nas variaveis que carregam as informações que serão preditas.🙏</p>"
   ]
  },
  {
   "cell_type": "markdown",
   "metadata": {},
   "source": [
    "<a id = 'head4_outlier_school_dependency'></a>\n",
    "<h4>6.3. Identificar e tratar outliers 'df_school_dependecy'</h4>\n",
    "<p>Como existem muitas colunas, é interessante verificar os valores possiveis de cada coluna e assim determinar quais deverão ser analisadas, afinal, muitas possuem caracteristicas categoricas.</p>"
   ]
  },
  {
   "cell_type": "code",
   "execution_count": 23,
   "metadata": {},
   "outputs": [
    {
     "data": {
      "text/plain": [
       "TIPOESC                         10\n",
       "SALAS_AULA                      32\n",
       "SALAS_ED_INF                     3\n",
       "SALAS_ED_ESP                     4\n",
       "SALAS_ED_ART                     3\n",
       "SALA_RECURSO                     8\n",
       "TOT_SALAS_AULA                  32\n",
       "AUDITORIO                        3\n",
       "ANFITEATRO                       5\n",
       "TEATRO                           4\n",
       "CANTINA                          3\n",
       "COPA                             4\n",
       "COZINHA                          6\n",
       "REFEITORIO                       5\n",
       "DEPOSITO_ALIMENTOS               7\n",
       "DESPENSA                         8\n",
       "TOT_DESPENSA                     9\n",
       "SALA_LEITURA                     5\n",
       "BIBLIOTECA                       4\n",
       "TOT_SALA_LEITURA                 6\n",
       "QUADRA_COBERTA                   4\n",
       "QUADRA_DESCOBERTA                5\n",
       "GINASIO                          2\n",
       "TOT_QUADRA                       6\n",
       "QUADRA_AREIA                     2\n",
       "QUADRA_GRAMA                     2\n",
       "CAMPO_FUTEBOL                    3\n",
       "GABINETE_DENTARIO                3\n",
       "CONSULTORIO_MEDICO               3\n",
       "ENFERMARIA                       3\n",
       "AMBULATORIO                      2\n",
       "ALMOXARIFADO                    12\n",
       "ARQUIVO                         12\n",
       "REPROGRAFIA                      2\n",
       "SALA_GREMIO                      3\n",
       "DIRETORIA                        4\n",
       "VICEDIRETORIA                    4\n",
       "SALA_PROF                        5\n",
       "SECRETARIA                       7\n",
       "SALA_ORIENT_ED                   3\n",
       "SALA_COORD_PEDAG                 7\n",
       "PATIO_COBERTO                    8\n",
       "PATIO_DESCOBERTO                 9\n",
       "ZELADORIA                        4\n",
       "VESTIARIO_FEM                    4\n",
       "VESTIARIO_MASC                   5\n",
       "TOT_VESTIARIO                    8\n",
       "VIDEOTECA                        2\n",
       "SALA_TV                          5\n",
       "LAB_INFO                         6\n",
       "LAB_CIENCIAS                     3\n",
       "LAB_FISICA                       3\n",
       "LAB_QUIMICA                      3\n",
       "LAB_BIOLOGIA                     3\n",
       "LAB_CIENCIA_FISICA_BIOLOGICA     3\n",
       "TOT_LAB_CIENCIA                  5\n",
       "LAB_LINGUAS                      4\n",
       "LAB_MULTIUSO                     5\n",
       "OFICINA                          5\n",
       "PLAYGROUND                       2\n",
       "DORMITORIO                      11\n",
       "BERCARIO                         1\n",
       "SANITARIO_ADEQ_PRE               3\n",
       "SANITARIO_ADEQ_PRE_FEM           2\n",
       "SANITARIO_ADEQ_PRE_MASC          2\n",
       "SANITARIO_ADEQ_DEF               7\n",
       "SANITARIO_ADEQ_DEF_FEM           6\n",
       "SANITARIO_ADEQ_DEF_MASC          6\n",
       "SANITARIO_AL_MASC                8\n",
       "SANITARIO_AL_FEM                10\n",
       "TOT_SANITARIO_AL                14\n",
       "SANITARIO_FUNC_FEM               9\n",
       "SANITARIO_FUNC_MASC              7\n",
       "TOT_SANITARIO_FUNC              13\n",
       "DEPEND_ADEQ_DEF                  8\n",
       "SALA_ED_FISICA                   5\n",
       "PISCINA                          2\n",
       "PORTARIA                         3\n",
       "SALA_PROG_ESC_FAMILIA            6\n",
       "BRINQUEDOTECA                    3\n",
       "FRALDARIO                        3\n",
       "LACTARIO                         1\n",
       "LAVANDERIA                       3\n",
       "SOLARIO                          2\n",
       "SALA_ESPERA                      6\n",
       "SALA_INSPETOR                    3\n",
       "SALA_REUNIAO                     5\n",
       "TESOURARIA                       2\n",
       "SALA_REFORCO                     4\n",
       "SALA_DIRETOR_TECNICO             1\n",
       "GARAGEM_ONIBUS                   1\n",
       "SALA_FISIOTERAPIA                1\n",
       "SALA_PSICOLOGIA                  2\n",
       "SALA_FONOAUDIOLOGIA              1\n",
       "SALA_EVENTOS                     2\n",
       "SALA_ASSIST_SOCIAL               1\n",
       "SALA_TERAPIA_EDUC                2\n",
       "ABATEDOURO                       1\n",
       "ALOJAMENTO_FEM                   2\n",
       "ALOJAMENTO_MASC                  2\n",
       "TOT_ALOJAMENTO                   2\n",
       "AREA_SERVICO                     4\n",
       "BAZAR                            1\n",
       "CASA_MAQUINA                     4\n",
       "CASA_FUNC                        1\n",
       "CHURRASQUEIRA                    2\n",
       "DEPOSITOS_CEREAIS                2\n",
       "ELEVADOR                         5\n",
       "ESTACIONAMENTO                   4\n",
       "ESTUFA                           2\n",
       "GALPAO_AVES_CORTE                1\n",
       "GALPAO_AVES_POSTURA              1\n",
       "GALPAO_BOVINOS_LEITE             1\n",
       "GALPAO_CUNICULTURA               1\n",
       "GALPAO_MAQ_AGRICOLA              1\n",
       "GALPAO_OVINOS_CAPRINOS           2\n",
       "GALPAO_SUINO                     1\n",
       "GRAFICA                          1\n",
       "HORTA                            2\n",
       "LAB_DIDATICA                     2\n",
       "LAB_JUNIOR                       1\n",
       "LAB_ENFERMAGEM                   1\n",
       "LAB_ESTETICA                     1\n",
       "LAB_PSICOPEDAGOGIA               2\n",
       "LAB_TURISMO                      2\n",
       "LAVATORIO                        3\n",
       "MANGUEIRA                        1\n",
       "MINHOCARIO                       2\n",
       "PACKING_HOUSE                    1\n",
       "POMAR                            3\n",
       "PSICULTURA                       1\n",
       "RECEPCAO                         4\n",
       "SALA_ATENDIMENTO                 5\n",
       "SALA_ATEND_PSICOLOGICO           3\n",
       "SALA_AUX_COORDENACAO             4\n",
       "SALA_DADOS                       4\n",
       "SALA_DEP_PESSOAL                 2\n",
       "SALA_ED_RELIGIOSA                1\n",
       "SALA_ENERGIA_ELETRICA            3\n",
       "SALA_ENTRETENIMENTO              4\n",
       "SALA_ESTAGIO                     2\n",
       "SALA_GINASTICA                   3\n",
       "SALA_INSUMO_AGRICOLA             1\n",
       "SALA_INSUMO_VETERINARIO          1\n",
       "SALA_MARKETING                   1\n",
       "SALA_MATRICULA                   2\n",
       "SALA_MUSICA                      4\n",
       "SALA_POS_GRADUACAO               1\n",
       "SALA_ORDENHA                     1\n",
       "SALA_PROC_PROD_AGROPECUARIOS     1\n",
       "SALA_SEGURANCA                   3\n",
       "SALA_TELEFONIA                   2\n",
       "SALA_FINANCEIRO                  2\n",
       "SALA_PASTORAL                    2\n",
       "SALA_RESERV_AGUA                 3\n",
       "SERVIDOR                         2\n",
       "SILO                             1\n",
       "VARANDA                          4\n",
       "VIVEIRO                          2\n",
       "SALA_REORG_NEURO                 1\n",
       "SALA_TERAPIA_OCUP                1\n",
       "SALA_SERIGRAFIA                  1\n",
       "SALA_MARCENARIA                  2\n",
       "QUIOSQUE                         3\n",
       "dtype: int64"
      ]
     },
     "execution_count": 23,
     "metadata": {},
     "output_type": "execute_result"
    }
   ],
   "source": [
    "## Lista de colunas numericas\n",
    "lst_columns = df_school_dependecy.select_dtypes(include = np.number).columns.to_list()\n",
    "lst_columns = [x for x in lst_columns if x != 'CODESC']\n",
    "\n",
    "## Exibir quantidade de valores unicos por coluna\n",
    "df_school_dependecy[lst_columns].nunique()\n"
   ]
  },
  {
   "cell_type": "markdown",
   "metadata": {},
   "source": [
    "<p>Existem muitas colunas numericas, sendo assim precisaremos ver os valores unicos de cada coluna e sua quantidade. Uma tática interessante antes de ver coluna a coluna, é ver se tal coluna possui outliers, dessa forma conseguiremos filtrar com maior agilidade.</p>"
   ]
  },
  {
   "cell_type": "code",
   "execution_count": 24,
   "metadata": {},
   "outputs": [],
   "source": [
    "def fn_validating_dataframe(p_df_dataframe):\n",
    "    \"\"\"\n",
    "        Description:\n",
    "            Valida algumas informações relacionadas ao dataframe\n",
    "\n",
    "        Keyword arguments:\n",
    "            p_df_dataframe -- Um pandas dataframe\n",
    "\n",
    "        Return:\n",
    "            None\n",
    "\n",
    "        Exception:\n",
    "            Valida se o objeto passado é um dataframe\n",
    "            Valida se o dataframe não esta vazio\n",
    "    \"\"\"\n",
    "    \n",
    "    if not (isinstance(p_df_dataframe, pd.DataFrame)):\n",
    "            raise Exception(\"O objeto passado não é um pandas dataframe\")\n",
    "            \n",
    "    if p_df_dataframe.empty:\n",
    "            raise Exception(\"O dataframe esta vazio\")"
   ]
  },
  {
   "cell_type": "code",
   "execution_count": 25,
   "metadata": {},
   "outputs": [],
   "source": [
    "def fn_number_of_outliers_per_dataframe(p_df_dataframe):\n",
    "    \"\"\"\n",
    "        Description:\n",
    "            Retorna o numero de outliers por coluna em um dado dataframe\n",
    "\n",
    "        Keyword arguments:\n",
    "            p_df_dataframe -- Um pandas dataframe\n",
    "\n",
    "        Return:\n",
    "            Objeto com o numero de outliers por coluna em um dataframe\n",
    "\n",
    "        Exception:\n",
    "            Valida se o objeto passado é um dataframe\n",
    "            Valida se o dataframe não esta vazio\n",
    "    \"\"\"\n",
    "    \n",
    "    fn_validating_dataframe(p_df_dataframe)\n",
    "        \n",
    "    Q1 = p_df_dataframe.quantile(0.25)\n",
    "    Q3 = p_df_dataframe.quantile(0.75)\n",
    "    IQR = Q3 - Q1\n",
    "    sr_out = ((p_df_dataframe < (Q1 - 1.5 * IQR)) | (p_df_dataframe > (Q3 + 1.5 * IQR))).sum()\n",
    "    return sr_out"
   ]
  },
  {
   "cell_type": "code",
   "execution_count": 26,
   "metadata": {},
   "outputs": [],
   "source": [
    "## Numero de outliers por coluna\n",
    "sr_num_outliers = fn_number_of_outliers_per_dataframe(df_school_dependecy)\n",
    "sr_num_outliers = sr_num_outliers[sr_num_outliers > 0]"
   ]
  },
  {
   "cell_type": "code",
   "execution_count": 27,
   "metadata": {},
   "outputs": [
    {
     "data": {
      "text/plain": [
       "129"
      ]
     },
     "execution_count": 27,
     "metadata": {},
     "output_type": "execute_result"
    }
   ],
   "source": [
    "## numero de colunas que possuem outliers\n",
    "len(sr_num_outliers)"
   ]
  },
  {
   "cell_type": "code",
   "execution_count": null,
   "metadata": {},
   "outputs": [],
   "source": []
  }
 ],
 "metadata": {
  "kernelspec": {
   "display_name": "Python 3",
   "language": "python",
   "name": "python3"
  },
  "language_info": {
   "codemirror_mode": {
    "name": "ipython",
    "version": 3
   },
   "file_extension": ".py",
   "mimetype": "text/x-python",
   "name": "python",
   "nbconvert_exporter": "python",
   "pygments_lexer": "ipython3",
   "version": "3.7.7"
  }
 },
 "nbformat": 4,
 "nbformat_minor": 4
}

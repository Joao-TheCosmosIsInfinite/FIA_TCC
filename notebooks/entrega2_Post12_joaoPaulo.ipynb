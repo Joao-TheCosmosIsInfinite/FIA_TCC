{
 "cells": [
  {
   "cell_type": "markdown",
   "metadata": {},
   "source": [
    "<h1>Trabalho de Conclusão de Curso - IDESP</h1>\n",
    "<h2>Entrega - 2</h2>\n",
    "<p><b>Instituição:</b> FIA - Fundação Instituto de Administração</p>\n",
    "<p><b>Conteúdo:</b> <b>Entrega 02</b> - Business Case e Técnicas de Estatística Clássica</p>\n",
    "<p><b>Turma</b>: 12 </p>\n",
    "<p><b>Ano</b>: 2020</p>\n",
    "<p><b>Autor:</b> João Paulo Ribeiro dos Santos</p>\n",
    "<p><b>Localização Projeto: </b> <a href = 'https://github.com/Joao-TheCosmosIsInfinite/FIA_Projeto_Machine_Learning' target = \"_blank\">Git Hub</a></p>"
   ]
  },
  {
   "cell_type": "markdown",
   "metadata": {},
   "source": [
    "<h2>Indice/ Table of Contents</h2> "
   ]
  },
  {
   "cell_type": "markdown",
   "metadata": {},
   "source": [
    "[1. Importações das bibliotecas/ Library Imports](#head3_library)<br>\n",
    "[2. Importações dos Datasets/ Dataset Imports](#head3_datasets)<br>\n",
    "&nbsp;&nbsp;&nbsp;&nbsp;[2.1. Informações do IDESP/ IDESP Information](#head4_idesp)<br>\n",
    "&nbsp;&nbsp;&nbsp;&nbsp;[2.2. Informações das Escolas/ School Information](#head4_schoolinfo)<br>\n",
    "&nbsp;&nbsp;&nbsp;&nbsp;[2.3. Dependencias das Escolas/ School Facilities](#head4_facilities)<br>\n"
   ]
  },
  {
   "cell_type": "markdown",
   "metadata": {},
   "source": [
    "<a id ='head3_library'></a>\n",
    "<h3>1. Importações das bibliotecas/ Library Imports</h3>"
   ]
  },
  {
   "cell_type": "code",
   "execution_count": 7,
   "metadata": {},
   "outputs": [],
   "source": [
    "import numpy as np\n",
    "import pandas as pd\n",
    "import matplotlib.pyplot as plt\n",
    "\n",
    "%matplotlib inline"
   ]
  },
  {
   "cell_type": "markdown",
   "metadata": {},
   "source": [
    "<a id ='head3_datasets'></a>\n",
    "<h3>2. Importações dos Datasets/ Dataset Imports</h3>"
   ]
  },
  {
   "cell_type": "markdown",
   "metadata": {},
   "source": [
    "<a id ='head4_idesp'></a>\n",
    "<h4>2.1. Informações do IDESP/ IDESP Information</h4>"
   ]
  },
  {
   "cell_type": "code",
   "execution_count": 2,
   "metadata": {},
   "outputs": [],
   "source": [
    "## IDESP do Ensino Fundamental Final entre os Anos 2007 e 2018\n",
    "df_idesp_final_elementary_2007_to_2018 = \\\n",
    "                                    pd.read_csv('data/IDESP/' \\\n",
    "                                                    'IDESP_Escolas_2007_2018_EnsinoFundamental_Anos_Finais.CSV')\n",
    "\n",
    "## IDESP do Ensino Fundamental Inicial entre os Anos 2007 e 2018\n",
    "df_idesp_initial_elementary_2007_to_2018 = \\\n",
    "                                    pd.read_csv('data/IDESP/' \\\n",
    "                                                     'IDESP_Escolas_2007_2018_EnsinoFundamental_Anos_Iniciais.CSV')\n",
    "\n",
    "## IDESP do Ensino Fundamental Inicial entre os Anos 2007 e 2018\n",
    "df_idesp_initial_elementary_2007_to_2018 = \\\n",
    "                                    pd.read_csv('data/IDESP/' \\\n",
    "                                                     'IDESP_Escolas_2007_2018_EnsinoFundamental_Anos_Iniciais.CSV')\n",
    "\n",
    "## IDESP do Ensino Medio entre os anos de 2007 e 2018\n",
    "df_idesp_high_school_2007_to_2018 = \\\n",
    "                                    pd.read_csv('data/IDESP/' \\\n",
    "                                                     'IDESP_Escolas_2007_2018_EnsinoMedio.CSV')\n"
   ]
  },
  {
   "cell_type": "markdown",
   "metadata": {},
   "source": [
    "<a id ='head4_schoolinfo'></a>\n",
    "<h4>2.2. Informações das Escolas/ School Information</h4>"
   ]
  },
  {
   "cell_type": "code",
   "execution_count": 3,
   "metadata": {},
   "outputs": [],
   "source": [
    "## Dados Geográficos das Escolas\n",
    "df_school_geolocation = \\\n",
    "                        pd.read_csv('data/DADOS_ESCOLA/11_Escolas_Coordenadas.csv',\n",
    "                                    sep = ';',\n",
    "                                    encoding  = 'ISO-8859-1')"
   ]
  },
  {
   "cell_type": "markdown",
   "metadata": {},
   "source": [
    "<a id ='head4_facilities'></a>\n",
    "<h4>2.3. Dependencias das Escolas/ School Facilities</h4>"
   ]
  },
  {
   "cell_type": "code",
   "execution_count": 4,
   "metadata": {},
   "outputs": [],
   "source": [
    "## Dados da infraestrutura das escolas\n",
    "df_school_dependecy = \\\n",
    "                        pd.read_csv('data/INSTALACAO_FISICA_ESCOLA/06_Escolas_Dependencias.csv',\n",
    "                                    sep = ';')                                    "
   ]
  },
  {
   "cell_type": "code",
   "execution_count": null,
   "metadata": {},
   "outputs": [],
   "source": []
  }
 ],
 "metadata": {
  "kernelspec": {
   "display_name": "Python 3",
   "language": "python",
   "name": "python3"
  },
  "language_info": {
   "codemirror_mode": {
    "name": "ipython",
    "version": 3
   },
   "file_extension": ".py",
   "mimetype": "text/x-python",
   "name": "python",
   "nbconvert_exporter": "python",
   "pygments_lexer": "ipython3",
   "version": "3.7.7"
  }
 },
 "nbformat": 4,
 "nbformat_minor": 4
}

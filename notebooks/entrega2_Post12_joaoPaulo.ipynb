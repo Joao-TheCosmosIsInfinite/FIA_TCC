{
 "cells": [
  {
   "cell_type": "markdown",
   "metadata": {},
   "source": [
    "<h1>Trabalho de Conclusão de Curso - IDESP</h1>\n",
    "<h2>Entrega - 2</h2>\n",
    "<p><b>Instituição:</b> FIA - Fundação Instituto de Administração</p>\n",
    "<p><b>Conteúdo:</b> <b>Entrega 02</b> - Business Case e Técnicas de Estatística Clássica</p>\n",
    "<p><b>Turma</b>: 12 </p>\n",
    "<p><b>Ano</b>: 2020</p>\n",
    "<p><b>Autor:</b> João Paulo Ribeiro dos Santos</p>\n",
    "<p><b>Localização Projeto: </b> <a href = 'https://github.com/Joao-TheCosmosIsInfinite/FIA_Projeto_Machine_Learning' target = \"_blank\">Git Hub</a></p>"
   ]
  },
  {
   "cell_type": "markdown",
   "metadata": {},
   "source": [
    "<h2>Indice/ Table of Contents</h2> "
   ]
  },
  {
   "cell_type": "markdown",
   "metadata": {},
   "source": [
    "[1. Importações das bibliotecas/ Library Imports](#head3_library)<br>\n",
    "[2. Importações dos Datasets/ Dataset Imports](#head3_datasets)<br>\n",
    "&nbsp;&nbsp;&nbsp;&nbsp;[2.1. Informações do IDESP/ IDESP Information](#head4_idesp)<br>\n",
    "&nbsp;&nbsp;&nbsp;&nbsp;[2.2. Informações das Escolas/ School Information](#head4_schoolinfo)<br>\n",
    "&nbsp;&nbsp;&nbsp;&nbsp;[2.3. Dependencias das Escolas/ School Facilities](#head4_facilities)<br>\n"
   ]
  },
  {
   "cell_type": "markdown",
   "metadata": {},
   "source": [
    "<a id ='head3_library'></a>\n",
    "<h3>1. Importações das bibliotecas/ Library Imports</h3>"
   ]
  },
  {
   "cell_type": "code",
   "execution_count": 1,
   "metadata": {},
   "outputs": [],
   "source": [
    "import numpy as np\n",
    "import pandas as pd\n",
    "import matplotlib.pyplot as plt\n",
    "\n",
    "%matplotlib inline"
   ]
  },
  {
   "cell_type": "markdown",
   "metadata": {},
   "source": [
    "<a id ='head3_datasets'></a>\n",
    "<h3>2. Importações dos Datasets/ Dataset Imports</h3>"
   ]
  },
  {
   "cell_type": "markdown",
   "metadata": {},
   "source": [
    "<a id ='head4_idesp'></a>\n",
    "<h4>2.1. Informações do IDESP/ IDESP Information</h4>"
   ]
  },
  {
   "cell_type": "code",
   "execution_count": 2,
   "metadata": {},
   "outputs": [],
   "source": [
    "## IDESP  no ano de 2019\n",
    "df_idesp_2019 = \\\n",
    "                pd.read_csv('data/IDESP/' \\\n",
    "                                'IDESP_ESCOLA_2019.csv')"
   ]
  },
  {
   "cell_type": "markdown",
   "metadata": {},
   "source": [
    "<a id ='head4_schoolinfo'></a>\n",
    "<h4>2.2. Informações das Escolas/ School Information</h4>"
   ]
  },
  {
   "cell_type": "code",
   "execution_count": 3,
   "metadata": {},
   "outputs": [],
   "source": [
    "## Dados Geográficos das Escolas\n",
    "df_school_geolocation = \\\n",
    "                        pd.read_csv('data/DADOS_ESCOLA/11_Escolas_Coordenadas.csv',\n",
    "                                    sep = ';',\n",
    "                                    decimal = ',',\n",
    "                                    encoding  = 'ISO-8859-1')"
   ]
  },
  {
   "cell_type": "markdown",
   "metadata": {},
   "source": [
    "<a id ='head4_facilities'></a>\n",
    "<h4>2.3. Dependencias das Escolas/ School Facilities</h4>"
   ]
  },
  {
   "cell_type": "code",
   "execution_count": 4,
   "metadata": {},
   "outputs": [],
   "source": [
    "## Dados da infraestrutura das escolas\n",
    "df_school_dependecy = \\\n",
    "                        pd.read_csv('data/INSTALACAO_FISICA_ESCOLA/06_Escolas_Dependencias.csv',\n",
    "                                    sep = ';')                                    "
   ]
  },
  {
   "cell_type": "markdown",
   "metadata": {},
   "source": [
    "<a id = 'head3_dictionary'></a>\n",
    "<h3>3. Dicionario das colunas dos dataframes/ Dictionary of dataframe's columns</h3>"
   ]
  },
  {
   "cell_type": "markdown",
   "metadata": {},
   "source": [
    "| Object | Field| Description |\n",
    "| :- | :- | :- |\n",
    "| <b>df_school_geolocation</b> | NOMEDEP | Qualitativa Nominal |\n",
    "| | DE | Qualitativa Nominal |\n",
    "| | MUN | Qualitativa Nominal |\n",
    "| | DISTR | Qualitativa Nominal |\n",
    "| | COD_ESC | Qualitativa Nominal |\n",
    "| | NOMESC | Qualitativa Nominal |\n",
    "| | SITUACAO | Qualitativa Nominal |\n",
    "| | TIPOESC | Qualitativa Nominal |\n",
    "| | ENDESC | Qualitativa Nominal |\n",
    "| | NUMESC | Quantitativa Discreta |\n",
    "| | COMPLEND | Qualitativa Nominal |\n",
    "| | CEP | Qualitativa Nominal |\n",
    "| | BAIESC | Qualitativa Nominal |\n",
    "| | ZONA | Qualitativa Nominal |\n",
    "| | DS_LONGITUDE | Quantitativa Continua |\n",
    "| | DS_LATITUDE | Quantitativa Continua |\n",
    "| | CODVINC | Quantitativa Discreta |"
   ]
  },
  {
   "cell_type": "markdown",
   "metadata": {},
   "source": [
    "<a id = 'head3_dataframe_info'></a>\n",
    "<h3>4. Informação dos dataframes/ Dataframe's Information</h3>"
   ]
  },
  {
   "cell_type": "markdown",
   "metadata": {},
   "source": [
    "<a id = 'head4_dataframe_dimension'></a>\n",
    "<h4>4.1. Dimensão dos dataframes/ Dataframe's dimension</h4>"
   ]
  },
  {
   "cell_type": "code",
   "execution_count": 5,
   "metadata": {},
   "outputs": [
    {
     "name": "stdout",
     "output_type": "stream",
     "text": [
      "Dimensão do dataframe \"df_school_dependecy\": (5608, 172)\n",
      "Dimensão do dataframe \"df_school_geolocation\": (5736, 17)\n",
      "Dimensão do dataframe \"df_idesp_2019\": (5047, 10)\n"
     ]
    }
   ],
   "source": [
    "## Dimensão do dataframe\n",
    "print('Dimensão do dataframe \"df_school_dependecy\":', \\\n",
    "                                                df_school_dependecy.shape)\n",
    "\n",
    "print('Dimensão do dataframe \"df_school_geolocation\":', \\\n",
    "                                                df_school_geolocation.shape)\n",
    "\n",
    "print('Dimensão do dataframe \"df_idesp_2019\":', \\\n",
    "                                                df_idesp_2019.shape)\n"
   ]
  },
  {
   "cell_type": "code",
   "execution_count": 6,
   "metadata": {},
   "outputs": [
    {
     "data": {
      "text/plain": [
       "NOMEDEP          object\n",
       "DE               object\n",
       "MUN              object\n",
       "DISTR            object\n",
       "COD_ESC           int64\n",
       "NOMESC           object\n",
       "SITUACAO         object\n",
       "TIPOESC          object\n",
       "ENDESC           object\n",
       "NUMESC           object\n",
       "COMPLEND         object\n",
       "CEP               int64\n",
       "BAIESC           object\n",
       "ZONA             object\n",
       "DS_LONGITUDE    float64\n",
       "DS_LATITUDE     float64\n",
       "CODVINC         float64\n",
       "dtype: object"
      ]
     },
     "execution_count": 6,
     "metadata": {},
     "output_type": "execute_result"
    }
   ],
   "source": [
    "## Schema do dataframe\n",
    "df_school_geolocation.dtypes"
   ]
  },
  {
   "cell_type": "code",
   "execution_count": 7,
   "metadata": {},
   "outputs": [
    {
     "data": {
      "text/plain": [
       "ANO_LETIVO           int64\n",
       "CODIGO_CIE           int64\n",
       "CODIGO_INEP          int64\n",
       "CodigoDiretoria      int64\n",
       "NomeDiretoria       object\n",
       "NomeEscola          object\n",
       "NomeMunicipio       object\n",
       "ANOS_INICIAIS      float64\n",
       "ANOS_FINAIS        float64\n",
       "ENSINO_MÉDIO       float64\n",
       "dtype: object"
      ]
     },
     "execution_count": 7,
     "metadata": {},
     "output_type": "execute_result"
    }
   ],
   "source": [
    "## Schema do dataframe\n",
    "df_idesp_2019.dtypes"
   ]
  },
  {
   "cell_type": "code",
   "execution_count": 8,
   "metadata": {},
   "outputs": [
    {
     "data": {
      "text/plain": [
       "NOMEDEP              object\n",
       "DE                   object\n",
       "MUN                  object\n",
       "DISTR                object\n",
       "CODESC                int64\n",
       "                      ...  \n",
       "SALA_REORG_NEURO      int64\n",
       "SALA_TERAPIA_OCUP     int64\n",
       "SALA_SERIGRAFIA       int64\n",
       "SALA_MARCENARIA       int64\n",
       "QUIOSQUE              int64\n",
       "Length: 172, dtype: object"
      ]
     },
     "execution_count": 8,
     "metadata": {},
     "output_type": "execute_result"
    }
   ],
   "source": [
    "## Schema do dataframe\n",
    "df_school_dependecy.dtypes\n"
   ]
  },
  {
   "cell_type": "markdown",
   "metadata": {},
   "source": [
    "<a id = 'head4_var_classification'></a>\n",
    "<h4>4.2. Classificação das variáveis/ Variables classification</h4>"
   ]
  },
  {
   "cell_type": "markdown",
   "metadata": {},
   "source": [
    "| Object | Field| Variable Classification |\n",
    "| :- | :- | :- |\n",
    "| <b>df_school_geolocation</b> | NOMEDEP | Qualitativa Nominal |\n",
    "| | DE | Qualitativa Nominal |\n",
    "| | MUN | Qualitativa Nominal |\n",
    "| | DISTR | Qualitativa Nominal |\n",
    "| | COD_ESC | Qualitativa Nominal |\n",
    "| | NOMESC | Qualitativa Nominal |\n",
    "| | SITUACAO | Qualitativa Nominal |\n",
    "| | TIPOESC | Qualitativa Nominal |\n",
    "| | ENDESC | Qualitativa Nominal |\n",
    "| | NUMESC | Quantitativa Discreta |\n",
    "| | COMPLEND | Qualitativa Nominal |\n",
    "| | CEP | Qualitativa Nominal |\n",
    "| | BAIESC | Qualitativa Nominal |\n",
    "| | ZONA | Qualitativa Nominal |\n",
    "| | DS_LONGITUDE | Quantitativa Continua |\n",
    "| | DS_LATITUDE | Quantitativa Continua |\n",
    "| | CODVINC | Quantitativa Discreta |"
   ]
  },
  {
   "cell_type": "markdown",
   "metadata": {},
   "source": [
    "<a id = 'head3_null_values'></a>\n",
    "<h3>5. Verificar valores nulos/ Identify nullable values</h3>"
   ]
  },
  {
   "cell_type": "markdown",
   "metadata": {},
   "source": [
    "<a id = 'head4_null_values_geolocation'></a>\n",
    "<h4>5.1. Identificar e tratar valores nulos 'df_school_geolocation'</h4>"
   ]
  },
  {
   "cell_type": "code",
   "execution_count": 9,
   "metadata": {},
   "outputs": [
    {
     "data": {
      "text/plain": [
       "NOMEDEP            0\n",
       "DE                 0\n",
       "MUN                0\n",
       "DISTR              0\n",
       "COD_ESC            0\n",
       "NOMESC             0\n",
       "SITUACAO           0\n",
       "TIPOESC            0\n",
       "ENDESC             5\n",
       "NUMESC             1\n",
       "COMPLEND         382\n",
       "CEP                0\n",
       "BAIESC             8\n",
       "ZONA               1\n",
       "DS_LONGITUDE       5\n",
       "DS_LATITUDE        5\n",
       "CODVINC         5137\n",
       "dtype: int64"
      ]
     },
     "execution_count": 9,
     "metadata": {},
     "output_type": "execute_result"
    }
   ],
   "source": [
    "## Quantidade de valores nulos por coluna\n",
    "df_school_geolocation.isnull().sum()"
   ]
  },
  {
   "cell_type": "code",
   "execution_count": 10,
   "metadata": {},
   "outputs": [
    {
     "data": {
      "text/plain": [
       "NOMEDEP          0.000000\n",
       "DE               0.000000\n",
       "MUN              0.000000\n",
       "DISTR            0.000000\n",
       "COD_ESC          0.000000\n",
       "NOMESC           0.000000\n",
       "SITUACAO         0.000000\n",
       "TIPOESC          0.000000\n",
       "ENDESC           0.087169\n",
       "NUMESC           0.017434\n",
       "COMPLEND         6.659693\n",
       "CEP              0.000000\n",
       "BAIESC           0.139470\n",
       "ZONA             0.017434\n",
       "DS_LONGITUDE     0.087169\n",
       "DS_LATITUDE      0.087169\n",
       "CODVINC         89.557183\n",
       "dtype: float64"
      ]
     },
     "execution_count": 10,
     "metadata": {},
     "output_type": "execute_result"
    }
   ],
   "source": [
    "## Porcentagem de valores nulos por coluna\n",
    "df_school_geolocation.isnull().sum() / len(df_school_geolocation) * 100"
   ]
  },
  {
   "cell_type": "markdown",
   "metadata": {},
   "source": [
    "<p>As colunas <b>'ENDESC', 'COMPLEND', 'BAIESC', 'ZONA'</b> correspondem dados que algumas escolas ou mesmo residencias não possuem, ou não foi informado no cadastro, para todas essas colunas que possuem valores nulos, atribuíremos a frase <b>'NAO INFORMADO'</b></p>\n",
    "<p>A coluna <b>'NUMESC'</b> se refere ao numero da escola, como apenas 1 escola dentre as milhares existentes não possui numero, então atribuiremos o valor ja existente <b>'S/N'</b>.</p>"
   ]
  },
  {
   "cell_type": "code",
   "execution_count": 11,
   "metadata": {},
   "outputs": [],
   "source": [
    "## Lista com as colunas\n",
    "lst_columns = ['ENDESC', 'COMPLEND', 'BAIESC', 'ZONA']\n",
    "\n",
    "## Aplicar o valor NAO INFORMADO para as linhas com valores nulos\n",
    "df_school_geolocation.fillna({'ENDESC': 'NAO INFORMADO',\n",
    "                              'COMPLEND': 'NAO INFORMADO',\n",
    "                              'BAIESC': 'NAO INFORMADO',\n",
    "                              'ZONA': 'NAO INFORMADO',\n",
    "                              'NUMESC': 'SN'}, inplace = True)"
   ]
  },
  {
   "cell_type": "code",
   "execution_count": 12,
   "metadata": {},
   "outputs": [
    {
     "data": {
      "text/html": [
       "<div>\n",
       "<style scoped>\n",
       "    .dataframe tbody tr th:only-of-type {\n",
       "        vertical-align: middle;\n",
       "    }\n",
       "\n",
       "    .dataframe tbody tr th {\n",
       "        vertical-align: top;\n",
       "    }\n",
       "\n",
       "    .dataframe thead th {\n",
       "        text-align: right;\n",
       "    }\n",
       "</style>\n",
       "<table border=\"1\" class=\"dataframe\">\n",
       "  <thead>\n",
       "    <tr style=\"text-align: right;\">\n",
       "      <th></th>\n",
       "      <th>NOMEDEP</th>\n",
       "      <th>DE</th>\n",
       "      <th>MUN</th>\n",
       "      <th>DISTR</th>\n",
       "      <th>COD_ESC</th>\n",
       "      <th>NOMESC</th>\n",
       "      <th>SITUACAO</th>\n",
       "      <th>TIPOESC</th>\n",
       "      <th>ENDESC</th>\n",
       "      <th>NUMESC</th>\n",
       "      <th>COMPLEND</th>\n",
       "      <th>CEP</th>\n",
       "      <th>BAIESC</th>\n",
       "      <th>ZONA</th>\n",
       "      <th>DS_LONGITUDE</th>\n",
       "      <th>DS_LATITUDE</th>\n",
       "      <th>CODVINC</th>\n",
       "    </tr>\n",
       "  </thead>\n",
       "  <tbody>\n",
       "    <tr>\n",
       "      <th>0</th>\n",
       "      <td>ESTADUAL - SE</td>\n",
       "      <td>NORTE 1</td>\n",
       "      <td>SAO PAULO</td>\n",
       "      <td>JAGUARA</td>\n",
       "      <td>12</td>\n",
       "      <td>AYRES DE MOURA PROFESSOR</td>\n",
       "      <td>Ativa</td>\n",
       "      <td>EE</td>\n",
       "      <td>RUA ARTUR ORLANDO</td>\n",
       "      <td>907</td>\n",
       "      <td>RUA</td>\n",
       "      <td>5118000</td>\n",
       "      <td>VILA JAGUARA</td>\n",
       "      <td>URBANA</td>\n",
       "      <td>-46.749100</td>\n",
       "      <td>-23.512199</td>\n",
       "      <td>NaN</td>\n",
       "    </tr>\n",
       "    <tr>\n",
       "      <th>1</th>\n",
       "      <td>ESTADUAL - SE</td>\n",
       "      <td>NORTE 1</td>\n",
       "      <td>SAO PAULO</td>\n",
       "      <td>PERUS</td>\n",
       "      <td>24</td>\n",
       "      <td>GAVIAO PEIXOTO BRIGADEIRO</td>\n",
       "      <td>Ativa</td>\n",
       "      <td>EE</td>\n",
       "      <td>MOGEIRO</td>\n",
       "      <td>710</td>\n",
       "      <td>RUA</td>\n",
       "      <td>5208230</td>\n",
       "      <td>VILA PERUS</td>\n",
       "      <td>URBANA</td>\n",
       "      <td>-46.759399</td>\n",
       "      <td>-23.404699</td>\n",
       "      <td>NaN</td>\n",
       "    </tr>\n",
       "    <tr>\n",
       "      <th>2</th>\n",
       "      <td>ESTADUAL - SE</td>\n",
       "      <td>NORTE 1</td>\n",
       "      <td>SAO PAULO</td>\n",
       "      <td>FREGUESIA DO O</td>\n",
       "      <td>36</td>\n",
       "      <td>JOAO SOLIMEO</td>\n",
       "      <td>Ativa</td>\n",
       "      <td>EE</td>\n",
       "      <td>DO SABAO</td>\n",
       "      <td>1497</td>\n",
       "      <td>ESTRADA</td>\n",
       "      <td>2806000</td>\n",
       "      <td>JARDIM MARISTELA</td>\n",
       "      <td>URBANA</td>\n",
       "      <td>-46.700821</td>\n",
       "      <td>-23.481279</td>\n",
       "      <td>NaN</td>\n",
       "    </tr>\n",
       "    <tr>\n",
       "      <th>3</th>\n",
       "      <td>ESTADUAL - SE</td>\n",
       "      <td>NORTE 1</td>\n",
       "      <td>SAO PAULO</td>\n",
       "      <td>BRASILANDIA</td>\n",
       "      <td>48</td>\n",
       "      <td>WALFREDO ARANTES CALDAS PROFESSOR</td>\n",
       "      <td>Ativa</td>\n",
       "      <td>EE</td>\n",
       "      <td>DEPUTADO CANTIDIO SAMPAIO</td>\n",
       "      <td>1701</td>\n",
       "      <td>NAO INFORMADO</td>\n",
       "      <td>2860001</td>\n",
       "      <td>VILA SOUZA</td>\n",
       "      <td>URBANA</td>\n",
       "      <td>-46.679531</td>\n",
       "      <td>-23.464180</td>\n",
       "      <td>NaN</td>\n",
       "    </tr>\n",
       "    <tr>\n",
       "      <th>4</th>\n",
       "      <td>ESTADUAL - SE</td>\n",
       "      <td>NORTE 1</td>\n",
       "      <td>SAO PAULO</td>\n",
       "      <td>ANHANGUERA</td>\n",
       "      <td>59</td>\n",
       "      <td>SEBASTIAO DE OLIVEIRA GUSMAO PROFESSOR</td>\n",
       "      <td>Ativa</td>\n",
       "      <td>EE</td>\n",
       "      <td>RUA FRANCISCO GIRON</td>\n",
       "      <td>SN</td>\n",
       "      <td>ESTRADA</td>\n",
       "      <td>5267000</td>\n",
       "      <td>MORRO DOCE</td>\n",
       "      <td>URBANA</td>\n",
       "      <td>-46.792249</td>\n",
       "      <td>-23.437950</td>\n",
       "      <td>NaN</td>\n",
       "    </tr>\n",
       "  </tbody>\n",
       "</table>\n",
       "</div>"
      ],
      "text/plain": [
       "         NOMEDEP       DE        MUN           DISTR  COD_ESC  \\\n",
       "0  ESTADUAL - SE  NORTE 1  SAO PAULO         JAGUARA       12   \n",
       "1  ESTADUAL - SE  NORTE 1  SAO PAULO           PERUS       24   \n",
       "2  ESTADUAL - SE  NORTE 1  SAO PAULO  FREGUESIA DO O       36   \n",
       "3  ESTADUAL - SE  NORTE 1  SAO PAULO     BRASILANDIA       48   \n",
       "4  ESTADUAL - SE  NORTE 1  SAO PAULO      ANHANGUERA       59   \n",
       "\n",
       "                                   NOMESC SITUACAO TIPOESC  \\\n",
       "0                AYRES DE MOURA PROFESSOR    Ativa      EE   \n",
       "1               GAVIAO PEIXOTO BRIGADEIRO    Ativa      EE   \n",
       "2                            JOAO SOLIMEO    Ativa      EE   \n",
       "3       WALFREDO ARANTES CALDAS PROFESSOR    Ativa      EE   \n",
       "4  SEBASTIAO DE OLIVEIRA GUSMAO PROFESSOR    Ativa      EE   \n",
       "\n",
       "                      ENDESC NUMESC       COMPLEND      CEP            BAIESC  \\\n",
       "0          RUA ARTUR ORLANDO    907            RUA  5118000      VILA JAGUARA   \n",
       "1                    MOGEIRO    710            RUA  5208230        VILA PERUS   \n",
       "2                   DO SABAO   1497        ESTRADA  2806000  JARDIM MARISTELA   \n",
       "3  DEPUTADO CANTIDIO SAMPAIO   1701  NAO INFORMADO  2860001        VILA SOUZA   \n",
       "4        RUA FRANCISCO GIRON     SN        ESTRADA  5267000        MORRO DOCE   \n",
       "\n",
       "     ZONA  DS_LONGITUDE  DS_LATITUDE  CODVINC  \n",
       "0  URBANA    -46.749100   -23.512199      NaN  \n",
       "1  URBANA    -46.759399   -23.404699      NaN  \n",
       "2  URBANA    -46.700821   -23.481279      NaN  \n",
       "3  URBANA    -46.679531   -23.464180      NaN  \n",
       "4  URBANA    -46.792249   -23.437950      NaN  "
      ]
     },
     "execution_count": 12,
     "metadata": {},
     "output_type": "execute_result"
    }
   ],
   "source": [
    "## Quantidade de valores nulos por coluna\n",
    "df_school_geolocation.head(5)"
   ]
  },
  {
   "cell_type": "markdown",
   "metadata": {},
   "source": [
    "<p>A coluna <b>'CODVINC'/ Codigo MEC</b> corresponde a escola vinculadora, que esta associado a escolas muito pequenas, com no máximo 3 salas de aula, por esse motivo essa escola fica vinculada a uma escola maior, logo podemos dizer que aproximadamente 11% das escolas são muito pequenas. Diante disso aplicaremos o valor ZERO as escolas sem vinculadora, e criaremos uma coluna extra indicando que a escola possui vinculadora.</p>\n",
    "<p>Link Referencia: http://www.dominiopublico.gov.br/download/texto/me002123.pdf</p>"
   ]
  },
  {
   "cell_type": "code",
   "execution_count": 13,
   "metadata": {},
   "outputs": [],
   "source": [
    "## Criar coluna indicando se a escola possui vinculadora\n",
    "df_school_geolocation['POSSUI_VINCULADORA'] = np.where(df_school_geolocation['CODVINC'].isnull(), 0, 1)\n",
    "\n",
    "## Substituir os valores nulos por zero\n",
    "df_school_geolocation['CODVINC'].fillna(0, inplace = True)"
   ]
  },
  {
   "cell_type": "markdown",
   "metadata": {},
   "source": [
    "<p>As proximas colunas com valores nulos correspondem as coordenadas geográficas, possivelmente tais coordenadas não foram incluidas no cadastro. Iremos verificar quais são essas escolas</p>"
   ]
  },
  {
   "cell_type": "code",
   "execution_count": 14,
   "metadata": {},
   "outputs": [
    {
     "data": {
      "text/html": [
       "<div>\n",
       "<style scoped>\n",
       "    .dataframe tbody tr th:only-of-type {\n",
       "        vertical-align: middle;\n",
       "    }\n",
       "\n",
       "    .dataframe tbody tr th {\n",
       "        vertical-align: top;\n",
       "    }\n",
       "\n",
       "    .dataframe thead th {\n",
       "        text-align: right;\n",
       "    }\n",
       "</style>\n",
       "<table border=\"1\" class=\"dataframe\">\n",
       "  <thead>\n",
       "    <tr style=\"text-align: right;\">\n",
       "      <th></th>\n",
       "      <th>NOMEDEP</th>\n",
       "      <th>DE</th>\n",
       "      <th>MUN</th>\n",
       "      <th>DISTR</th>\n",
       "      <th>COD_ESC</th>\n",
       "      <th>NOMESC</th>\n",
       "      <th>SITUACAO</th>\n",
       "      <th>TIPOESC</th>\n",
       "      <th>ENDESC</th>\n",
       "      <th>NUMESC</th>\n",
       "      <th>COMPLEND</th>\n",
       "      <th>CEP</th>\n",
       "      <th>BAIESC</th>\n",
       "      <th>ZONA</th>\n",
       "      <th>DS_LONGITUDE</th>\n",
       "      <th>DS_LATITUDE</th>\n",
       "      <th>CODVINC</th>\n",
       "      <th>POSSUI_VINCULADORA</th>\n",
       "    </tr>\n",
       "  </thead>\n",
       "  <tbody>\n",
       "    <tr>\n",
       "      <th>4079</th>\n",
       "      <td>ESTADUAL - SE</td>\n",
       "      <td>CAMPINAS LESTE</td>\n",
       "      <td>CAMPINAS</td>\n",
       "      <td>CAMPINAS LESTE</td>\n",
       "      <td>478830</td>\n",
       "      <td>CENTRO ATEND SOCIOED AO ADOLESC CAMPINAS UN II CI</td>\n",
       "      <td>Ativa</td>\n",
       "      <td>FEBEM - UI (CASA À PARTIR DE 2007)</td>\n",
       "      <td>ALADINO SELMI COMENDADOR</td>\n",
       "      <td>SN</td>\n",
       "      <td>AVENIDA</td>\n",
       "      <td>13069096</td>\n",
       "      <td>VILA SAN MARTIN</td>\n",
       "      <td>URBANA</td>\n",
       "      <td>NaN</td>\n",
       "      <td>NaN</td>\n",
       "      <td>65626.0</td>\n",
       "      <td>1</td>\n",
       "    </tr>\n",
       "    <tr>\n",
       "      <th>4138</th>\n",
       "      <td>ESTADUAL - SE</td>\n",
       "      <td>CAMPINAS LESTE</td>\n",
       "      <td>CAMPINAS</td>\n",
       "      <td>CAMPINAS LESTE</td>\n",
       "      <td>498671</td>\n",
       "      <td>CENTRO DE ATEND SOCIOEDUC AO ADOLESCENTE ANDOR...</td>\n",
       "      <td>Ativa</td>\n",
       "      <td>FEBEM - UIP (CASA À PARTIR DE 2007)</td>\n",
       "      <td>ALADINO SELMI COMENDADOR</td>\n",
       "      <td>SN</td>\n",
       "      <td>AVENIDA</td>\n",
       "      <td>13069096</td>\n",
       "      <td>VILA SAN MARTIN</td>\n",
       "      <td>URBANA</td>\n",
       "      <td>NaN</td>\n",
       "      <td>NaN</td>\n",
       "      <td>65626.0</td>\n",
       "      <td>1</td>\n",
       "    </tr>\n",
       "    <tr>\n",
       "      <th>4226</th>\n",
       "      <td>ESTADUAL - SE</td>\n",
       "      <td>CAMPINAS LESTE</td>\n",
       "      <td>CAMPINAS</td>\n",
       "      <td>CAMPINAS LESTE</td>\n",
       "      <td>563948</td>\n",
       "      <td>CENTRO DE ATEND SOCIOEDUC AO ADOLESCENTE ANDOR...</td>\n",
       "      <td>Ativa</td>\n",
       "      <td>FEBEM - UI (CASA À PARTIR DE 2007)</td>\n",
       "      <td>ALADINO SELMI COMENDADOR</td>\n",
       "      <td>1</td>\n",
       "      <td>AVENIDA</td>\n",
       "      <td>13069096</td>\n",
       "      <td>VILA SAN MARTIN</td>\n",
       "      <td>URBANA</td>\n",
       "      <td>NaN</td>\n",
       "      <td>NaN</td>\n",
       "      <td>65626.0</td>\n",
       "      <td>1</td>\n",
       "    </tr>\n",
       "    <tr>\n",
       "      <th>4271</th>\n",
       "      <td>ESTADUAL - SE</td>\n",
       "      <td>CENTRO OESTE</td>\n",
       "      <td>SAO PAULO</td>\n",
       "      <td>VILA SONIA</td>\n",
       "      <td>577212</td>\n",
       "      <td>HOSPITAL ALBERT EINSTEIN CL HOSPITALAR</td>\n",
       "      <td>Ativa</td>\n",
       "      <td>CLASSE HOSPITALAR</td>\n",
       "      <td>LOURENCO DE AZEVEDO</td>\n",
       "      <td>149</td>\n",
       "      <td>RUA</td>\n",
       "      <td>5624060</td>\n",
       "      <td>VILA MORSE</td>\n",
       "      <td>URBANA</td>\n",
       "      <td>NaN</td>\n",
       "      <td>NaN</td>\n",
       "      <td>4259.0</td>\n",
       "      <td>1</td>\n",
       "    </tr>\n",
       "    <tr>\n",
       "      <th>4296</th>\n",
       "      <td>ESTADUAL - SE</td>\n",
       "      <td>BARRETOS</td>\n",
       "      <td>BARRETOS</td>\n",
       "      <td>BARRETOS</td>\n",
       "      <td>584459</td>\n",
       "      <td>CLASSE HOSPITALAR FUNDACAO PIO XII HOSPITAL DO...</td>\n",
       "      <td>Ativa</td>\n",
       "      <td>CLASSE HOSPITALAR</td>\n",
       "      <td>ANTENOR DUARTE VILELA</td>\n",
       "      <td>1331</td>\n",
       "      <td>RUA</td>\n",
       "      <td>14784400</td>\n",
       "      <td>DOUTOR PAULO PRATA</td>\n",
       "      <td>URBANA</td>\n",
       "      <td>NaN</td>\n",
       "      <td>NaN</td>\n",
       "      <td>22214.0</td>\n",
       "      <td>1</td>\n",
       "    </tr>\n",
       "  </tbody>\n",
       "</table>\n",
       "</div>"
      ],
      "text/plain": [
       "            NOMEDEP              DE        MUN           DISTR  COD_ESC  \\\n",
       "4079  ESTADUAL - SE  CAMPINAS LESTE   CAMPINAS  CAMPINAS LESTE   478830   \n",
       "4138  ESTADUAL - SE  CAMPINAS LESTE   CAMPINAS  CAMPINAS LESTE   498671   \n",
       "4226  ESTADUAL - SE  CAMPINAS LESTE   CAMPINAS  CAMPINAS LESTE   563948   \n",
       "4271  ESTADUAL - SE    CENTRO OESTE  SAO PAULO      VILA SONIA   577212   \n",
       "4296  ESTADUAL - SE        BARRETOS   BARRETOS        BARRETOS   584459   \n",
       "\n",
       "                                                 NOMESC SITUACAO  \\\n",
       "4079  CENTRO ATEND SOCIOED AO ADOLESC CAMPINAS UN II CI    Ativa   \n",
       "4138  CENTRO DE ATEND SOCIOEDUC AO ADOLESCENTE ANDOR...    Ativa   \n",
       "4226  CENTRO DE ATEND SOCIOEDUC AO ADOLESCENTE ANDOR...    Ativa   \n",
       "4271             HOSPITAL ALBERT EINSTEIN CL HOSPITALAR    Ativa   \n",
       "4296  CLASSE HOSPITALAR FUNDACAO PIO XII HOSPITAL DO...    Ativa   \n",
       "\n",
       "                                  TIPOESC                    ENDESC NUMESC  \\\n",
       "4079   FEBEM - UI (CASA À PARTIR DE 2007)  ALADINO SELMI COMENDADOR     SN   \n",
       "4138  FEBEM - UIP (CASA À PARTIR DE 2007)  ALADINO SELMI COMENDADOR     SN   \n",
       "4226   FEBEM - UI (CASA À PARTIR DE 2007)  ALADINO SELMI COMENDADOR      1   \n",
       "4271                    CLASSE HOSPITALAR       LOURENCO DE AZEVEDO    149   \n",
       "4296                    CLASSE HOSPITALAR     ANTENOR DUARTE VILELA   1331   \n",
       "\n",
       "     COMPLEND       CEP              BAIESC    ZONA  DS_LONGITUDE  \\\n",
       "4079  AVENIDA  13069096     VILA SAN MARTIN  URBANA           NaN   \n",
       "4138  AVENIDA  13069096     VILA SAN MARTIN  URBANA           NaN   \n",
       "4226  AVENIDA  13069096     VILA SAN MARTIN  URBANA           NaN   \n",
       "4271      RUA   5624060          VILA MORSE  URBANA           NaN   \n",
       "4296      RUA  14784400  DOUTOR PAULO PRATA  URBANA           NaN   \n",
       "\n",
       "      DS_LATITUDE  CODVINC  POSSUI_VINCULADORA  \n",
       "4079          NaN  65626.0                   1  \n",
       "4138          NaN  65626.0                   1  \n",
       "4226          NaN  65626.0                   1  \n",
       "4271          NaN   4259.0                   1  \n",
       "4296          NaN  22214.0                   1  "
      ]
     },
     "execution_count": 14,
     "metadata": {},
     "output_type": "execute_result"
    }
   ],
   "source": [
    "df_school_geolocation[df_school_geolocation['DS_LONGITUDE'].isnull()]"
   ]
  },
  {
   "cell_type": "markdown",
   "metadata": {},
   "source": [
    "<p>As escolas sem coordenadas geográficas possuem escola vinculadora, logo aplicaremos as coordenadas de suas escolas vinculadoras.</p>"
   ]
  },
  {
   "cell_type": "code",
   "execution_count": 15,
   "metadata": {},
   "outputs": [],
   "source": [
    "## Latitude e longitude das escolas vinculadas\n",
    "df_vinculated_school = df_school_geolocation[df_school_geolocation['COD_ESC'].isin([4259, 22214, 65626])] \\\n",
    "                                                    .loc[:, ['COD_ESC', 'DS_LONGITUDE', 'DS_LATITUDE']]\n",
    "## Realizando o Join com o dataframe novo\n",
    "df_school_geolocation = df_school_geolocation.merge(df_vinculated_school, \n",
    "                                                    left_on = 'CODVINC', \n",
    "                                                    right_on = 'COD_ESC', \n",
    "                                                    suffixes=('_left', '_right'),\n",
    "                                                    how = 'left')\n",
    "## Atualizar os dados\n",
    "df_school_geolocation['DS_LONGITUDE_left'] = np.where(df_school_geolocation['DS_LONGITUDE_left'].isnull(),\n",
    "                                                      df_school_geolocation['DS_LONGITUDE_right'],\n",
    "                                                      df_school_geolocation['DS_LONGITUDE_left'])\n",
    "\n",
    "df_school_geolocation['DS_LATITUDE_left'] = np.where(df_school_geolocation['DS_LATITUDE_left'].isnull(),\n",
    "                                                      df_school_geolocation['DS_LATITUDE_right'],\n",
    "                                                      df_school_geolocation['DS_LATITUDE_left'])\n",
    "## Renomear colunas\n",
    "df_school_geolocation.rename(columns = {\"COD_ESC_left\" : \"COD_ESC\",\n",
    "                                        \"DS_LONGITUDE_left\" : \"DS_LONGITUDE\",\n",
    "                                        \"DS_LATITUDE_left\" : \"DS_LATITUDE\"},\n",
    "                             inplace = True)\n",
    "\n",
    "## Dropar/ Deletar colunas desnecessarias\n",
    "df_school_geolocation.drop(columns = ['COD_ESC_right', 'DS_LONGITUDE_right', 'DS_LATITUDE_right'],\n",
    "                           inplace = True)\n",
    "\n",
    "## Deletar datarframe que não sera mais utilizado\n",
    "del df_vinculated_school"
   ]
  },
  {
   "cell_type": "code",
   "execution_count": 16,
   "metadata": {},
   "outputs": [
    {
     "data": {
      "text/plain": [
       "NOMEDEP               0\n",
       "DE                    0\n",
       "MUN                   0\n",
       "DISTR                 0\n",
       "COD_ESC               0\n",
       "NOMESC                0\n",
       "SITUACAO              0\n",
       "TIPOESC               0\n",
       "ENDESC                0\n",
       "NUMESC                0\n",
       "COMPLEND              0\n",
       "CEP                   0\n",
       "BAIESC                0\n",
       "ZONA                  0\n",
       "DS_LONGITUDE          0\n",
       "DS_LATITUDE           0\n",
       "CODVINC               0\n",
       "POSSUI_VINCULADORA    0\n",
       "dtype: int64"
      ]
     },
     "execution_count": 16,
     "metadata": {},
     "output_type": "execute_result"
    }
   ],
   "source": [
    "## Verificar se ainda existem valores nulos\n",
    "df_school_geolocation.isnull().sum()"
   ]
  },
  {
   "cell_type": "markdown",
   "metadata": {},
   "source": [
    "<a id = 'head4_null_values_idesp_2019'></a>\n",
    "<h4>5.2. Identificar e tratar valores nulos 'df_idesp_2019'</h4>"
   ]
  },
  {
   "cell_type": "code",
   "execution_count": 17,
   "metadata": {},
   "outputs": [
    {
     "data": {
      "text/plain": [
       "ANO_LETIVO         0\n",
       "CODIGO_CIE         0\n",
       "CODIGO_INEP        0\n",
       "CodigoDiretoria    0\n",
       "NomeDiretoria      0\n",
       "NomeEscola         0\n",
       "NomeMunicipio      0\n",
       "ANOS_INICIAIS      0\n",
       "ANOS_FINAIS        0\n",
       "ENSINO_MÉDIO       0\n",
       "dtype: int64"
      ]
     },
     "execution_count": 17,
     "metadata": {},
     "output_type": "execute_result"
    }
   ],
   "source": [
    "## Quantidade de valores nulos\n",
    "df_idesp_2019.isnull().sum()"
   ]
  },
  {
   "cell_type": "code",
   "execution_count": 18,
   "metadata": {},
   "outputs": [
    {
     "data": {
      "text/plain": [
       "ANO_LETIVO         0.0\n",
       "CODIGO_CIE         0.0\n",
       "CODIGO_INEP        0.0\n",
       "CodigoDiretoria    0.0\n",
       "NomeDiretoria      0.0\n",
       "NomeEscola         0.0\n",
       "NomeMunicipio      0.0\n",
       "ANOS_INICIAIS      0.0\n",
       "ANOS_FINAIS        0.0\n",
       "ENSINO_MÉDIO       0.0\n",
       "dtype: float64"
      ]
     },
     "execution_count": 18,
     "metadata": {},
     "output_type": "execute_result"
    }
   ],
   "source": [
    "## Verificar a porncentagem de valores nulos\n",
    "df_idesp_2019.isnull().sum() / len(df_idesp_2019) * 100"
   ]
  },
  {
   "cell_type": "markdown",
   "metadata": {},
   "source": [
    "<a id = 'head4_null_values_dependency'></a>\n",
    "<h4>5.2. Identificar e tratar valores nulos 'df_school_dependecy'</h4>\n",
    "<p>Como o dataframe possui mais de 150 colunas, iremos verificar se existe alguma coluna com valor nulo.</p>"
   ]
  },
  {
   "cell_type": "code",
   "execution_count": 19,
   "metadata": {},
   "outputs": [
    {
     "data": {
      "text/plain": [
       "False"
      ]
     },
     "execution_count": 19,
     "metadata": {},
     "output_type": "execute_result"
    }
   ],
   "source": [
    "## Verificar se há alguma coluna com valor nulo\n",
    "df_school_dependecy.isnull().any().any()"
   ]
  }
 ],
 "metadata": {
  "kernelspec": {
   "display_name": "Python 3",
   "language": "python",
   "name": "python3"
  },
  "language_info": {
   "codemirror_mode": {
    "name": "ipython",
    "version": 3
   },
   "file_extension": ".py",
   "mimetype": "text/x-python",
   "name": "python",
   "nbconvert_exporter": "python",
   "pygments_lexer": "ipython3",
   "version": "3.7.7"
  }
 },
 "nbformat": 4,
 "nbformat_minor": 4
}
